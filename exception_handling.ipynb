{
  "nbformat": 4,
  "nbformat_minor": 0,
  "metadata": {
    "colab": {
      "provenance": []
    },
    "kernelspec": {
      "name": "python3",
      "display_name": "Python 3"
    },
    "language_info": {
      "name": "python"
    }
  },
  "cells": [
    {
      "cell_type": "markdown",
      "metadata": {
        "id": "1916cb1a"
      },
      "source": [
        "1.  **Difference between interpreted and compiled languages:**\n",
        "    *   **Interpreted languages:** Code is executed line by line by an interpreter without being converted into machine code beforehand. Examples include Python, JavaScript, and Ruby. This makes development faster but execution generally slower.\n",
        "    *   **Compiled languages:** Code is translated into machine code by a compiler before execution. Examples include C, C++, and Java. This results in faster execution but requires a compilation step before running the code."
      ]
    },
    {
      "cell_type": "markdown",
      "metadata": {
        "id": "e155451b"
      },
      "source": [
        "2.  **Exception handling in Python:**\n",
        "    *   Exception handling is a mechanism to gracefully deal with errors or unexpected events that occur during the execution of a program. It allows you to prevent the program from crashing and instead handle the error in a controlled manner."
      ]
    },
    {
      "cell_type": "markdown",
      "metadata": {
        "id": "4422686c"
      },
      "source": [
        "3.  **Purpose of the `finally` block in exception handling:**\n",
        "    *   The `finally` block is used to define code that will be executed regardless of whether an exception occurred in the `try` block or not. It is typically used for cleanup operations, such as closing files or releasing resources."
      ]
    },
    {
      "cell_type": "markdown",
      "metadata": {
        "id": "cecf5142"
      },
      "source": [
        "4.  **Logging in Python:**\n",
        "    *   Logging is the process of recording events that occur in a software system. It provides a way to track the flow of execution, diagnose issues, and monitor the behavior of an application."
      ]
    },
    {
      "cell_type": "markdown",
      "metadata": {
        "id": "a6a5c0d4"
      },
      "source": [
        "5.  **Significance of the `__del__` method in Python:**\n",
        "    *   The `__del__` method, also known as the destructor, is called when an object is about to be destroyed (garbage collected). It can be used to perform cleanup operations for the object's resources before it is removed from memory. However, its execution is not guaranteed, and it's generally better to use context managers or explicit cleanup methods."
      ]
    },
    {
      "cell_type": "markdown",
      "metadata": {
        "id": "dd763a04"
      },
      "source": [
        "6.  **Difference between `import` and `from ... import` in Python:**\n",
        "    *   **`import module_name`:** Imports the entire module. You need to use `module_name.object_name` to access objects within the module.\n",
        "    *   **`from module_name import object_name`:** Imports only the specified object (function, class, variable, etc.) from the module. You can then use `object_name` directly without the module name prefix."
      ]
    },
    {
      "cell_type": "markdown",
      "metadata": {
        "id": "07c6aefa"
      },
      "source": [
        "7.  **How to handle multiple exceptions in Python:**\n",
        "    *   You can handle multiple exceptions by providing multiple `except` blocks after a `try` block. You can also group multiple exception types in a single `except` block using a tuple."
      ]
    },
    {
      "cell_type": "markdown",
      "metadata": {
        "id": "c2883de6"
      },
      "source": [
        "8.  **Purpose of the `with` statement when handling files in Python:**\n",
        "    *   The `with` statement is used with context managers, such as file objects, to ensure that resources are properly acquired and released. When used with file handling, it automatically closes the file even if exceptions occur."
      ]
    },
    {
      "cell_type": "markdown",
      "metadata": {
        "id": "d2efc060"
      },
      "source": [
        "9.  **Difference between multithreading and multiprocessing:**\n",
        "    *   **Multithreading:** Involves creating multiple threads within a single process. Threads share the same memory space, which can lead to complexities with shared data. It's suitable for I/O-bound tasks where the program is waiting for external resources.\n",
        "    *   **Multiprocessing:** Involves creating multiple processes, each with its own independent memory space. Processes are more isolated and less prone to issues with shared data but have higher overhead for creation and communication. It's suitable for CPU-bound tasks that can benefit from parallel execution on multiple cores."
      ]
    },
    {
      "cell_type": "markdown",
      "metadata": {
        "id": "4c430925"
      },
      "source": [
        "10. **Advantages of using logging in a program:**\n",
        "    *   Debugging: Helps identify the source of errors and understand the program's execution flow.\n",
        "    *   Monitoring: Provides insights into the program's behavior and performance in production.\n",
        "    *   Auditing: Records events for security or compliance purposes.\n",
        "    *   Separation of concerns: Keeps debugging/monitoring logic separate from the core application logic."
      ]
    },
    {
      "cell_type": "markdown",
      "metadata": {
        "id": "7c5f1001"
      },
      "source": [
        "11. **Memory management in Python:**\n",
        "    *   Memory management is the process of allocating and deallocating memory for objects during a program's execution. Python uses a combination of reference counting and a garbage collector to automatically manage memory."
      ]
    },
    {
      "cell_type": "markdown",
      "metadata": {
        "id": "2b6468ce"
      },
      "source": [
        "12. **Basic steps involved in exception handling in Python:**\n",
        "    *   **`try` block:** Contains the code that might raise an exception.\n",
        "    *   **`except` block(s):** Catches and handles specific exceptions that occur in the `try` block.\n",
        "    *   **`else` block (optional):** Contains code that is executed only if no exception occurs in the `try` block.\n",
        "    *   **`finally` block (optional):** Contains code that is always executed, regardless of whether an exception occurred or not."
      ]
    },
    {
      "cell_type": "markdown",
      "metadata": {
        "id": "9fe486c2"
      },
      "source": [
        "13. **Why is memory management important in Python:**\n",
        "    *   Efficient memory usage: Prevents memory leaks and ensures that resources are released when no longer needed.\n",
        "    *   Program stability: Reduces the risk of crashes due to memory-related errors.\n",
        "    *   Performance: Efficient memory management can improve the overall performance of the program."
      ]
    },
    {
      "cell_type": "markdown",
      "metadata": {
        "id": "de70b13d"
      },
      "source": [
        "14. **Role of `try` and `except` in exception handling:**\n",
        "    *   The `try` block is where you place the code that you suspect might raise an exception.\n",
        "    *   The `except` block is where you define how to handle a specific exception if it occurs within the `try` block."
      ]
    },
    {
      "cell_type": "markdown",
      "metadata": {
        "id": "52b91ca6"
      },
      "source": [
        "15. **How does Python's garbage collection system work:**\n",
        "    *   Python primarily uses reference counting to keep track of the number of references to an object. When the reference count of an object drops to zero, it is immediately deallocated.\n",
        "    *   Python also has a cyclic garbage collector that deals with reference cycles, where objects refer to each other but are no longer accessible from the rest of the program."
      ]
    },
    {
      "cell_type": "markdown",
      "metadata": {
        "id": "23d59914"
      },
      "source": [
        "16. **Purpose of the `else` block in exception handling:**\n",
        "    *   The `else` block is executed only if the code in the `try` block runs without raising any exceptions. It is useful for placing code that should only be executed when the `try` block is successful."
      ]
    },
    {
      "cell_type": "markdown",
      "metadata": {
        "id": "e3d545d8"
      },
      "source": [
        "17. **Common logging levels in Python:**\n",
        "    *   `DEBUG`: Detailed information for debugging purposes.\n",
        "    *   `INFO`: General information about the program's execution.\n",
        "    *   `WARNING`: Indicates a potential issue that doesn't prevent the program from running.\n",
        "    *   `ERROR`: Indicates an error that prevents a specific operation from completing.\n",
        "    *   `CRITICAL`: Indicates a serious error that might cause the program to terminate."
      ]
    },
    {
      "cell_type": "markdown",
      "metadata": {
        "id": "0753a500"
      },
      "source": [
        "18. **Difference between `os.fork()` and `multiprocessing` in Python:**\n",
        "    *   `os.fork()`: Creates a new process that is a copy of the parent process. It is available only on Unix-like systems.\n",
        "    *   `multiprocessing`: A cross-platform module that provides a higher-level API for creating and managing processes. It is generally preferred over `os.fork()` for portability and ease of use."
      ]
    },
    {
      "cell_type": "markdown",
      "metadata": {
        "id": "8498c130"
      },
      "source": [
        "19. **Importance of closing a file in Python:**\n",
        "    *   Releases resources: Closing a file frees up system resources associated with the file.\n",
        "    *   Data integrity: Ensures that any buffered data is written to the file.\n",
        "    *   Prevents corruption: Leaving files open unnecessarily can lead to data corruption."
      ]
    },
    {
      "cell_type": "markdown",
      "metadata": {
        "id": "82d41334"
      },
      "source": [
        "20. **Difference between `file.read()` and `file.readline()` in Python:**\n",
        "    *   `file.read()`: Reads the entire content of the file as a single string.\n",
        "    *   `file.readline()`: Reads a single line from the file, including the newline character at the end."
      ]
    },
    {
      "cell_type": "markdown",
      "metadata": {
        "id": "c7060810"
      },
      "source": [
        "21. **The logging module in Python is used for:**\n",
        "    *   Recording events that occur during the execution of a program.\n",
        "    *   Providing a structured way to manage log messages.\n",
        "    *   Configuring different logging levels and output destinations."
      ]
    },
    {
      "cell_type": "markdown",
      "metadata": {
        "id": "73dc2ab6"
      },
      "source": [
        "22. **The `os` module in Python is used for in file handling:**\n",
        "    *   Interacting with the operating system.\n",
        "    *   Performing file and directory operations, such as creating, deleting, renaming, and listing files and directories.\n",
        "    *   Getting information about files and directories."
      ]
    },
    {
      "cell_type": "markdown",
      "metadata": {
        "id": "11888933"
      },
      "source": [
        "23. **Challenges associated with memory management in Python:**\n",
        "    *   Memory leaks: Objects that are no longer needed but are still being referenced, preventing them from being garbage collected.\n",
        "    *   Reference cycles: Objects that refer to each other in a cycle, making it difficult for the garbage collector to identify them as garbage.\n",
        "    *   Large objects: Handling very large objects can consume significant memory and impact performance."
      ]
    },
    {
      "cell_type": "markdown",
      "metadata": {
        "id": "1c492cf0"
      },
      "source": [
        "24. **How do you raise an exception manually in Python:**\n",
        "    *   You can raise an exception manually using the `raise` statement followed by the exception type and an optional error message."
      ]
    },
    {
      "cell_type": "markdown",
      "metadata": {
        "id": "f1392da8"
      },
      "source": [
        "25. **Why is it important to use multithreading in certain applications?**\n",
        "    *   **Responsiveness:** Allows the application to remain responsive to user input while performing long-running tasks in the background.\n",
        "    *   **Concurrency:** Enables multiple tasks to run concurrently, improving the overall performance of I/O-bound applications.\n",
        "    *   **Resource utilization:** Can make better use of system resources by overlapping I/O operations with computation."
      ]
    },
    {
      "cell_type": "markdown",
      "metadata": {
        "id": "1dd7bb5d"
      },
      "source": [
        "# 1. How can you open a file for writing in Python and write a string to it"
      ]
    },
    {
      "cell_type": "code",
      "metadata": {
        "colab": {
          "base_uri": "https://localhost:8080/"
        },
        "id": "bda66341",
        "outputId": "02fb7682-7e92-42f6-fae6-a9048b08671f"
      },
      "source": [
        "file_path = 'my_file.txt'\n",
        "content_to_write = \"Hello, this is a test string.\"\n",
        "\n",
        "with open(file_path, 'w') as f:\n",
        "    f.write(content_to_write)\n",
        "\n",
        "print(f\"Successfully wrote to {file_path}\")"
      ],
      "execution_count": 4,
      "outputs": [
        {
          "output_type": "stream",
          "name": "stdout",
          "text": [
            "Successfully wrote to my_file.txt\n"
          ]
        }
      ]
    },
    {
      "cell_type": "markdown",
      "metadata": {
        "id": "8c365140"
      },
      "source": [
        "# 2. Write a Python program to read the contents of a file and print each line"
      ]
    },
    {
      "cell_type": "code",
      "metadata": {
        "colab": {
          "base_uri": "https://localhost:8080/"
        },
        "id": "df0ae39d",
        "outputId": "3d22942e-c259-4a41-d4fa-3cf4652ed378"
      },
      "source": [
        "file_path = 'my_file.txt'\n",
        "\n",
        "try:\n",
        "    with open(file_path, 'r') as f:\n",
        "        for line in f:\n",
        "            print(line, end='')\n",
        "except FileNotFoundError:\n",
        "    print(f\"Error: The file '{file_path}' was not found.\")"
      ],
      "execution_count": 5,
      "outputs": [
        {
          "output_type": "stream",
          "name": "stdout",
          "text": [
            "Hello, this is a test string."
          ]
        }
      ]
    },
    {
      "cell_type": "markdown",
      "metadata": {
        "id": "85b02833"
      },
      "source": [
        "# 3. How would you handle a case where the file doesn't exist while trying to open it for reading"
      ]
    },
    {
      "cell_type": "code",
      "metadata": {
        "colab": {
          "base_uri": "https://localhost:8080/"
        },
        "id": "9d0dfcfb",
        "outputId": "a02631a6-d8b9-434f-aeac-b5f1cfb3edeb"
      },
      "source": [
        "file_path = 'non_existent_file.txt'\n",
        "\n",
        "try:\n",
        "    with open(file_path, 'r') as f:\n",
        "        content = f.read()\n",
        "        print(content)\n",
        "except FileNotFoundError:\n",
        "    print(f\"Error: The file '{file_path}' does not exist.\")"
      ],
      "execution_count": 6,
      "outputs": [
        {
          "output_type": "stream",
          "name": "stdout",
          "text": [
            "Error: The file 'non_existent_file.txt' does not exist.\n"
          ]
        }
      ]
    },
    {
      "cell_type": "markdown",
      "metadata": {
        "id": "02fa3357"
      },
      "source": [
        "# 4. Write a Python script that reads from one file and writes its content to another file"
      ]
    },
    {
      "cell_type": "code",
      "metadata": {
        "colab": {
          "base_uri": "https://localhost:8080/"
        },
        "id": "8d5660c8",
        "outputId": "363b82cc-978e-4136-946f-9f0b2aa1c1a3"
      },
      "source": [
        "source_file = 'my_file.txt'\n",
        "destination_file = 'my_file_copy.txt'\n",
        "\n",
        "try:\n",
        "    with open(source_file, 'r') as source:\n",
        "        with open(destination_file, 'w') as destination:\n",
        "            content = source.read()\n",
        "            destination.write(content)\n",
        "    print(f\"Successfully copied content from '{source_file}' to '{destination_file}'\")\n",
        "except FileNotFoundError:\n",
        "    print(f\"Error: The source file '{source_file}' was not found.\")"
      ],
      "execution_count": 7,
      "outputs": [
        {
          "output_type": "stream",
          "name": "stdout",
          "text": [
            "Successfully copied content from 'my_file.txt' to 'my_file_copy.txt'\n"
          ]
        }
      ]
    },
    {
      "cell_type": "markdown",
      "metadata": {
        "id": "eeb688eb"
      },
      "source": [
        "# 5. How would you catch and handle division by zero error in Python"
      ]
    },
    {
      "cell_type": "code",
      "metadata": {
        "colab": {
          "base_uri": "https://localhost:8080/"
        },
        "id": "5c99bd95",
        "outputId": "6eb3949b-a460-483f-f250-2d363b5b96d3"
      },
      "source": [
        "try:\n",
        "    numerator = 10\n",
        "    denominator = 0\n",
        "    result = numerator / denominator\n",
        "    print(result)\n",
        "except ZeroDivisionError:\n",
        "    print(\"Error: Cannot divide by zero.\")"
      ],
      "execution_count": 8,
      "outputs": [
        {
          "output_type": "stream",
          "name": "stdout",
          "text": [
            "Error: Cannot divide by zero.\n"
          ]
        }
      ]
    },
    {
      "cell_type": "markdown",
      "metadata": {
        "id": "e50d9488"
      },
      "source": [
        "# 6. Write a Python program that logs an error message to a log file when a division by zero exception occurs"
      ]
    },
    {
      "cell_type": "code",
      "metadata": {
        "colab": {
          "base_uri": "https://localhost:8080/"
        },
        "id": "d888093c",
        "outputId": "f1f88eab-9dc7-46e3-b0f6-f6751e56c12f"
      },
      "source": [
        "import logging\n",
        "\n",
        "logging.basicConfig(filename='app.log', level=logging.ERROR)\n",
        "\n",
        "try:\n",
        "    numerator = 10\n",
        "    denominator = 0\n",
        "    result = numerator / denominator\n",
        "    print(result)\n",
        "except ZeroDivisionError:\n",
        "    logging.error(\"Division by zero error occurred.\")\n",
        "    print(\"An error occurred. Please check the log file.\")"
      ],
      "execution_count": 9,
      "outputs": [
        {
          "output_type": "stream",
          "name": "stderr",
          "text": [
            "ERROR:root:Division by zero error occurred.\n"
          ]
        },
        {
          "output_type": "stream",
          "name": "stdout",
          "text": [
            "An error occurred. Please check the log file.\n"
          ]
        }
      ]
    },
    {
      "cell_type": "markdown",
      "metadata": {
        "id": "d8775af5"
      },
      "source": [
        "# 7. How do you log information at different levels (INFO, ERROR, WARNING) in Python using the logging module"
      ]
    },
    {
      "cell_type": "code",
      "metadata": {
        "colab": {
          "base_uri": "https://localhost:8080/"
        },
        "id": "8cb9547c",
        "outputId": "325d8650-afe8-426c-bae8-95de60240b72"
      },
      "source": [
        "import logging\n",
        "\n",
        "logging.basicConfig(level=logging.DEBUG)\n",
        "\n",
        "logging.debug(\"This is a debug message.\")\n",
        "logging.info(\"This is an informational message.\")\n",
        "logging.warning(\"This is a warning message.\")\n",
        "logging.error(\"This is an error message.\")\n",
        "logging.critical(\"This is a critical message.\")"
      ],
      "execution_count": 10,
      "outputs": [
        {
          "output_type": "stream",
          "name": "stderr",
          "text": [
            "WARNING:root:This is a warning message.\n",
            "ERROR:root:This is an error message.\n",
            "CRITICAL:root:This is a critical message.\n"
          ]
        }
      ]
    },
    {
      "cell_type": "markdown",
      "metadata": {
        "id": "a9369cf0"
      },
      "source": [
        "# 8. Write a program to handle a file opening error using exception handling"
      ]
    },
    {
      "cell_type": "code",
      "metadata": {
        "colab": {
          "base_uri": "https://localhost:8080/"
        },
        "id": "69a56e77",
        "outputId": "49273f1d-112b-4b2f-b0e2-8452d1b46a82"
      },
      "source": [
        "file_path = 'another_non_existent_file.txt'\n",
        "\n",
        "try:\n",
        "    with open(file_path, 'r') as f:\n",
        "        content = f.read()\n",
        "        print(content)\n",
        "except FileNotFoundError:\n",
        "    print(f\"Error: The file '{file_path}' could not be opened.\")\n",
        "except IOError:\n",
        "    print(f\"Error: An I/O error occurred while opening the file '{file_path}'.\")"
      ],
      "execution_count": 11,
      "outputs": [
        {
          "output_type": "stream",
          "name": "stdout",
          "text": [
            "Error: The file 'another_non_existent_file.txt' could not be opened.\n"
          ]
        }
      ]
    },
    {
      "cell_type": "markdown",
      "metadata": {
        "id": "53fbdc58"
      },
      "source": [
        "# 9. How can you read a file line by line and store its content in a list in Python"
      ]
    },
    {
      "cell_type": "code",
      "metadata": {
        "colab": {
          "base_uri": "https://localhost:8080/"
        },
        "id": "d32f18b9",
        "outputId": "e2f3ce79-639d-47f7-8db9-d9f80f740e1a"
      },
      "source": [
        "file_path = 'my_file.txt'\n",
        "lines = []\n",
        "\n",
        "try:\n",
        "    with open(file_path, 'r') as f:\n",
        "        for line in f:\n",
        "            lines.append(line.strip())\n",
        "    print(lines)\n",
        "except FileNotFoundError:\n",
        "    print(f\"Error: The file '{file_path}' was not found.\")"
      ],
      "execution_count": 12,
      "outputs": [
        {
          "output_type": "stream",
          "name": "stdout",
          "text": [
            "['Hello, this is a test string.']\n"
          ]
        }
      ]
    },
    {
      "cell_type": "markdown",
      "metadata": {
        "id": "9cafe11e"
      },
      "source": [
        "# 10. How can you append data to an existing file in Python"
      ]
    },
    {
      "cell_type": "code",
      "metadata": {
        "colab": {
          "base_uri": "https://localhost:8080/"
        },
        "id": "7acee37f",
        "outputId": "9489eb52-e408-4daf-e29a-e97679c381dc"
      },
      "source": [
        "file_path = 'my_file.txt'\n",
        "data_to_append = \"\\nThis line is appended.\"\n",
        "\n",
        "with open(file_path, 'a') as f:\n",
        "    f.write(data_to_append)\n",
        "\n",
        "print(f\"Successfully appended to {file_path}\")"
      ],
      "execution_count": 13,
      "outputs": [
        {
          "output_type": "stream",
          "name": "stdout",
          "text": [
            "Successfully appended to my_file.txt\n"
          ]
        }
      ]
    },
    {
      "cell_type": "markdown",
      "metadata": {
        "id": "66d2f884"
      },
      "source": [
        "# 11. Write a Python program that uses a try-except block to handle an error when attempting to access a dictionary key that doesn't exist"
      ]
    },
    {
      "cell_type": "code",
      "metadata": {
        "colab": {
          "base_uri": "https://localhost:8080/"
        },
        "id": "f3ef38b8",
        "outputId": "4d24e79f-0e8e-49ee-ccaa-001e863b773c"
      },
      "source": [
        "my_dict = {\"name\": \"Alice\", \"age\": 30}\n",
        "\n",
        "try:\n",
        "    city = my_dict[\"city\"]\n",
        "    print(city)\n",
        "except KeyError:\n",
        "    print(\"Error: The key 'city' does not exist in the dictionary.\")"
      ],
      "execution_count": 14,
      "outputs": [
        {
          "output_type": "stream",
          "name": "stdout",
          "text": [
            "Error: The key 'city' does not exist in the dictionary.\n"
          ]
        }
      ]
    },
    {
      "cell_type": "markdown",
      "metadata": {
        "id": "1796c06f"
      },
      "source": [
        "# 12. Write a program that demonstrates using multiple except blocks to handle different types of exceptions"
      ]
    },
    {
      "cell_type": "code",
      "metadata": {
        "colab": {
          "base_uri": "https://localhost:8080/"
        },
        "id": "a7428d4c",
        "outputId": "b19a523b-e512-448b-a8aa-ce052cf36f67"
      },
      "source": [
        "try:\n",
        "    value = int(\"abc\")\n",
        "    result = 10 / 0\n",
        "except ValueError:\n",
        "    print(\"Error: Could not convert to an integer.\")\n",
        "except ZeroDivisionError:\n",
        "    print(\"Error: Division by zero occurred.\")\n",
        "except Exception as e:\n",
        "    print(f\"An unexpected error occurred: {e}\")"
      ],
      "execution_count": 15,
      "outputs": [
        {
          "output_type": "stream",
          "name": "stdout",
          "text": [
            "Error: Could not convert to an integer.\n"
          ]
        }
      ]
    },
    {
      "cell_type": "markdown",
      "metadata": {
        "id": "ed5c9a3b"
      },
      "source": [
        "# 13. How would you check if a file exists before attempting to read it in Python"
      ]
    },
    {
      "cell_type": "code",
      "metadata": {
        "colab": {
          "base_uri": "https://localhost:8080/"
        },
        "id": "d416ac98",
        "outputId": "f9e13506-6544-46c2-b10f-b21b2885aabd"
      },
      "source": [
        "import os\n",
        "\n",
        "file_path = 'my_file.txt'\n",
        "\n",
        "if os.path.exists(file_path):\n",
        "    with open(file_path, 'r') as f:\n",
        "        content = f.read()\n",
        "        print(content)\n",
        "else:\n",
        "    print(f\"Error: The file '{file_path}' does not exist.\")"
      ],
      "execution_count": 16,
      "outputs": [
        {
          "output_type": "stream",
          "name": "stdout",
          "text": [
            "Hello, this is a test string.\n",
            "This line is appended.\n"
          ]
        }
      ]
    },
    {
      "cell_type": "markdown",
      "metadata": {
        "id": "af6e3c3f"
      },
      "source": [
        "# 14. Write a program that uses the logging module to log both informational and error messages"
      ]
    },
    {
      "cell_type": "code",
      "metadata": {
        "colab": {
          "base_uri": "https://localhost:8080/"
        },
        "id": "4f5acef5",
        "outputId": "d998234d-ffe9-4dda-8d3e-f583d8ead080"
      },
      "source": [
        "import logging\n",
        "\n",
        "logging.basicConfig(level=logging.INFO)\n",
        "\n",
        "logging.info(\"Starting the program.\")\n",
        "\n",
        "try:\n",
        "    result = 10 / 0\n",
        "except ZeroDivisionError:\n",
        "    logging.error(\"Division by zero error occurred.\", exc_info=True)\n",
        "\n",
        "logging.info(\"Program finished.\")"
      ],
      "execution_count": 17,
      "outputs": [
        {
          "output_type": "stream",
          "name": "stderr",
          "text": [
            "ERROR:root:Division by zero error occurred.\n",
            "Traceback (most recent call last):\n",
            "  File \"/tmp/ipython-input-1786953130.py\", line 8, in <cell line: 0>\n",
            "    result = 10 / 0\n",
            "             ~~~^~~\n",
            "ZeroDivisionError: division by zero\n"
          ]
        }
      ]
    },
    {
      "cell_type": "markdown",
      "metadata": {
        "id": "91b391cd"
      },
      "source": [
        "# 15. Write a Python program that prints the content of a file and handles the case when the file is empty"
      ]
    },
    {
      "cell_type": "code",
      "metadata": {
        "colab": {
          "base_uri": "https://localhost:8080/"
        },
        "id": "972c32f3",
        "outputId": "26226483-5c4e-429d-e2c0-d58d7a6cff68"
      },
      "source": [
        "file_path = 'empty_file.txt'\n",
        "\n",
        "# Create an empty file for demonstration\n",
        "with open(file_path, 'w') as f:\n",
        "    pass\n",
        "\n",
        "try:\n",
        "    with open(file_path, 'r') as f:\n",
        "        content = f.read()\n",
        "        if content:\n",
        "            print(content)\n",
        "        else:\n",
        "            print(f\"The file '{file_path}' is empty.\")\n",
        "except FileNotFoundError:\n",
        "    print(f\"Error: The file '{file_path}' was not found.\")"
      ],
      "execution_count": 18,
      "outputs": [
        {
          "output_type": "stream",
          "name": "stdout",
          "text": [
            "The file 'empty_file.txt' is empty.\n"
          ]
        }
      ]
    },
    {
      "cell_type": "markdown",
      "metadata": {
        "id": "7f60b2b4"
      },
      "source": [
        "# 16. Demonstrate how to use memory profiling to check the memory usage of a small program"
      ]
    },
    {
      "cell_type": "code",
      "metadata": {
        "id": "899f190a"
      },
      "source": [
        "# You might need to install memory_profiler: !pip install memory_profiler\n",
        "# Then run this cell with %memit or the program with python -m memory_profiler your_script.py\n",
        "\n",
        "# Example using %memit (run this cell with the magic command)\n",
        "# %memit\n",
        "my_list = [i for i in range(1000000)]\n",
        "# print(\"List created.\") # Optional: uncomment to see output after list creation"
      ],
      "execution_count": 19,
      "outputs": []
    },
    {
      "cell_type": "markdown",
      "metadata": {
        "id": "5668cabe"
      },
      "source": [
        "# 17. Write a Python program to create and write a list of numbers to a file, one number per line"
      ]
    },
    {
      "cell_type": "code",
      "metadata": {
        "colab": {
          "base_uri": "https://localhost:8080/"
        },
        "id": "32f11008",
        "outputId": "1399330a-8dd7-46b5-8f99-f7fde1630eeb"
      },
      "source": [
        "file_path = 'numbers.txt'\n",
        "numbers = [1, 2, 3, 4, 5, 6, 7, 8, 9, 10]\n",
        "\n",
        "try:\n",
        "    with open(file_path, 'w') as f:\n",
        "        for number in numbers:\n",
        "            f.write(str(number) + '\\n')\n",
        "    print(f\"Successfully wrote numbers to {file_path}\")\n",
        "except IOError:\n",
        "    print(f\"Error: An I/O error occurred while writing to the file '{file_path}'.\")"
      ],
      "execution_count": 20,
      "outputs": [
        {
          "output_type": "stream",
          "name": "stdout",
          "text": [
            "Successfully wrote numbers to numbers.txt\n"
          ]
        }
      ]
    },
    {
      "cell_type": "markdown",
      "metadata": {
        "id": "ffdca3be"
      },
      "source": [
        "# 18. How would you implement a basic logging setup that logs to a file with rotation after 1MB"
      ]
    },
    {
      "cell_type": "code",
      "metadata": {
        "colab": {
          "base_uri": "https://localhost:8080/"
        },
        "id": "4dc5215b",
        "outputId": "b6901623-5588-4ce8-f4f6-ad549fccdb06"
      },
      "source": [
        "import logging\n",
        "from logging.handlers import RotatingFileHandler\n",
        "\n",
        "log_file = 'rotating_app.log'\n",
        "max_bytes = 1024 * 1024  # 1MB\n",
        "backup_count = 5\n",
        "\n",
        "logger = logging.getLogger('rotating_logger')\n",
        "logger.setLevel(logging.INFO)\n",
        "\n",
        "handler = RotatingFileHandler(log_file, maxBytes=max_bytes, backupCount=backup_count)\n",
        "formatter = logging.Formatter('%(asctime)s - %(name)s - %(levelname)s - %(message)s')\n",
        "handler.setFormatter(formatter)\n",
        "\n",
        "logger.addHandler(handler)\n",
        "\n",
        "logger.info(\"This is a log message that will be written to the rotating file.\")\n",
        "logger.info(\"You can write multiple messages to test rotation.\")"
      ],
      "execution_count": 21,
      "outputs": [
        {
          "output_type": "stream",
          "name": "stderr",
          "text": [
            "INFO:rotating_logger:This is a log message that will be written to the rotating file.\n",
            "INFO:rotating_logger:You can write multiple messages to test rotation.\n"
          ]
        }
      ]
    },
    {
      "cell_type": "markdown",
      "metadata": {
        "id": "5489e7ae"
      },
      "source": [
        "# 19. Write a program that handles both IndexError and KeyError using a try-except block"
      ]
    },
    {
      "cell_type": "code",
      "metadata": {
        "colab": {
          "base_uri": "https://localhost:8080/"
        },
        "id": "787ddd03",
        "outputId": "31db2ef2-2883-4c03-d83c-60e550f4b287"
      },
      "source": [
        "my_list = [1, 2, 3]\n",
        "my_dict = {\"a\": 1, \"b\": 2}\n",
        "\n",
        "try:\n",
        "    list_item = my_list[5]\n",
        "    dict_item = my_dict[\"c\"]\n",
        "except (IndexError, KeyError):\n",
        "    print(\"Error: Either an index error or a key error occurred.\")"
      ],
      "execution_count": 22,
      "outputs": [
        {
          "output_type": "stream",
          "name": "stdout",
          "text": [
            "Error: Either an index error or a key error occurred.\n"
          ]
        }
      ]
    },
    {
      "cell_type": "markdown",
      "metadata": {
        "id": "35217abf"
      },
      "source": [
        "# 20. How would you open a file and read its contents using a context manager in Python"
      ]
    },
    {
      "cell_type": "code",
      "metadata": {
        "colab": {
          "base_uri": "https://localhost:8080/"
        },
        "id": "fdcba41d",
        "outputId": "a15e6eae-7f11-4faa-d807-f81f5e60e15d"
      },
      "source": [
        "file_path = 'my_file.txt'\n",
        "\n",
        "try:\n",
        "    with open(file_path, 'r') as f:\n",
        "        content = f.read()\n",
        "        print(content)\n",
        "except FileNotFoundError:\n",
        "    print(f\"Error: The file '{file_path}' was not found.\")"
      ],
      "execution_count": 23,
      "outputs": [
        {
          "output_type": "stream",
          "name": "stdout",
          "text": [
            "Hello, this is a test string.\n",
            "This line is appended.\n"
          ]
        }
      ]
    },
    {
      "cell_type": "markdown",
      "metadata": {
        "id": "5a1d0fae"
      },
      "source": [
        "# 21. Write a Python program that reads a file and prints the number of occurrences of a specific word"
      ]
    },
    {
      "cell_type": "code",
      "metadata": {
        "colab": {
          "base_uri": "https://localhost:8080/"
        },
        "id": "e86e39e6",
        "outputId": "89a806d4-5d27-4e04-f41b-d0319ea54392"
      },
      "source": [
        "file_path = 'my_file.txt'\n",
        "word_to_find = 'test'\n",
        "count = 0\n",
        "\n",
        "try:\n",
        "    with open(file_path, 'r') as f:\n",
        "        content = f.read().lower()\n",
        "        count = content.count(word_to_find.lower())\n",
        "    print(f\"The word '{word_to_find}' appears {count} times in the file.\")\n",
        "except FileNotFoundError:\n",
        "    print(f\"Error: The file '{file_path}' was not found.\")"
      ],
      "execution_count": 24,
      "outputs": [
        {
          "output_type": "stream",
          "name": "stdout",
          "text": [
            "The word 'test' appears 1 times in the file.\n"
          ]
        }
      ]
    },
    {
      "cell_type": "markdown",
      "metadata": {
        "id": "177b0fe6"
      },
      "source": [
        "# 22. How can you check if a file is empty before attempting to read its contents"
      ]
    },
    {
      "cell_type": "code",
      "metadata": {
        "colab": {
          "base_uri": "https://localhost:8080/"
        },
        "id": "df9260a9",
        "outputId": "5323949f-5cca-437b-aad4-7acde03774ee"
      },
      "source": [
        "import os\n",
        "\n",
        "file_path = 'empty_file.txt'\n",
        "\n",
        "# Create an empty file for demonstration\n",
        "with open(file_path, 'w') as f:\n",
        "    pass\n",
        "\n",
        "\n",
        "if os.path.exists(file_path):\n",
        "    if os.stat(file_path).st_size == 0:\n",
        "        print(f\"The file '{file_path}' is empty.\")\n",
        "    else:\n",
        "        print(f\"The file '{file_path}' is not empty. Reading content:\")\n",
        "        try:\n",
        "            with open(file_path, 'r') as f:\n",
        "                content = f.read()\n",
        "                print(content)\n",
        "        except IOError:\n",
        "            print(f\"Error: An I/O error occurred while reading the file '{file_path}'.\")\n",
        "else:\n",
        "    print(f\"Error: The file '{file_path}' does not exist.\")"
      ],
      "execution_count": 25,
      "outputs": [
        {
          "output_type": "stream",
          "name": "stdout",
          "text": [
            "The file 'empty_file.txt' is empty.\n"
          ]
        }
      ]
    },
    {
      "cell_type": "markdown",
      "metadata": {
        "id": "4ab4cb01"
      },
      "source": [
        "# 24. How do you raise an exception manually in Python"
      ]
    },
    {
      "cell_type": "code",
      "metadata": {
        "colab": {
          "base_uri": "https://localhost:8080/"
        },
        "id": "1c3c2347",
        "outputId": "338bd096-6f2b-4e5e-d3de-05efa1d8265a"
      },
      "source": [
        "import logging\n",
        "\n",
        "# Configure logging to write to a file\n",
        "logging.basicConfig(filename='file_errors.log', level=logging.ERROR)\n",
        "\n",
        "file_path = 'non_existent_file_for_logging.txt'\n",
        "\n",
        "try:\n",
        "    with open(file_path, 'r') as f:\n",
        "        content = f.read()\n",
        "        print(content)\n",
        "except FileNotFoundError:\n",
        "    logging.error(f\"Error: File not found when trying to read '{file_path}'.\", exc_info=True)\n",
        "    print(f\"An error occurred. Please check the log file 'file_errors.log'.\")\n",
        "except IOError:\n",
        "    logging.error(f\"Error: An I/O error occurred when trying to read '{file_path}'.\", exc_info=True)\n",
        "    print(f\"An error occurred. Please check the log file 'file_errors.log'.\")"
      ],
      "execution_count": 26,
      "outputs": [
        {
          "output_type": "stream",
          "name": "stderr",
          "text": [
            "ERROR:root:Error: File not found when trying to read 'non_existent_file_for_logging.txt'.\n",
            "Traceback (most recent call last):\n",
            "  File \"/tmp/ipython-input-3298771539.py\", line 9, in <cell line: 0>\n",
            "    with open(file_path, 'r') as f:\n",
            "         ^^^^^^^^^^^^^^^^^^^^\n",
            "FileNotFoundError: [Errno 2] No such file or directory: 'non_existent_file_for_logging.txt'\n"
          ]
        },
        {
          "output_type": "stream",
          "name": "stdout",
          "text": [
            "An error occurred. Please check the log file 'file_errors.log'.\n"
          ]
        }
      ]
    }
  ]
}