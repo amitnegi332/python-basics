{
  "nbformat": 4,
  "nbformat_minor": 0,
  "metadata": {
    "colab": {
      "provenance": []
    },
    "kernelspec": {
      "name": "python3",
      "display_name": "Python 3"
    },
    "language_info": {
      "name": "python"
    }
  },
  "cells": [
    {
      "cell_type": "markdown",
      "source": [
        " 1. What is Python, and why is it popular?\n",
        "\n",
        " Ans- Python is a high level intermediate programming language know for its readability and versatality. It is popular because it is open source and has large community used in web dev,AI etc.\n",
        "\n",
        " 2. What is an interpreter in Python?\n",
        "\n",
        " Ans- An interpreter in python is a program that executes the python code line by line converting it into machine code that is understandable by computer.\n",
        "\n",
        " 3. What are pre-defined keywords in Python?\n",
        "\n",
        " Ans- predefined keyword in python  are words that holds a special meaning and have specific purpose in python . for ex- if ,for etc.\n",
        "\n",
        " 4. Can keywords be used as variable names?\n",
        "\n",
        " Ans- no keywords can not be used as variable names because kewords are predefined and variable name are random acc to  program.\n",
        "\n",
        " 5. What is mutability in Python?\n",
        "\n",
        " Ans- Mutability refers to object or containers whose state or value can be changed after they are created. for ex- list,dictonary etc.\n",
        "\n",
        " 6. Why are lists mutable, but tuples are immutable?\n",
        "\n",
        " Ans- because list are made to hold collection of items that may change during a program but tuples are meant to store constant or fixed data.\n",
        "\n",
        " 7. What is the difference between “==” and “is” operators in Python?\n",
        "\n",
        " Ans-\"==\" this operator check if two variables have same value (equality) and \"is\" this is used to check if two variable point to same object in memory.\n",
        "\n",
        " 8. What are logical operators in Python?\n",
        "\n",
        " Ans- logical operator in python are used to combine multiple condition and return true or false.\n",
        "\n",
        " 9. What is type casting in Python?\n",
        "\n",
        " Ans- type casting is used to change the data type in python so we can perform the arithmetic operations easily.\n",
        "\n",
        " 10. What is the difference between implicit and explicit type castin?\n",
        "\n",
        " Ans- Implicit type casting refers to python automatically convert  one data type to another during an operation\n",
        " Explicit type casting refers to converting one data type to another by writing extra code during an operation.\n",
        "\n",
        " 11. What is the purpose of conditional statements in Python?\n",
        "\n",
        " Ans- condition statement helps you to code decision based on some specific precondition acc to operations.\n",
        "\n",
        " 12. How does the elif statement work?\n",
        "\n",
        " Ans-elif statement is used to check multiple condition one after another in a single program in python.\n",
        "\n",
        " 13. What is the difference between for and while loops?\n",
        "\n",
        " Ans- While loop repeatedly executed a block of code until condition is met\n",
        " for loop iterates over a sequence of elements string, list etc.\n",
        "\n",
        " 14. Describe a scenario where a while loop is more suitable than a for loop.\n",
        "\n",
        " Ans- you are creating a login system where the user must enter the correct pass to continue . you dont know how many attempts the user will take so whilw loop is ideal.\n"
      ],
      "metadata": {
        "id": "Ccee_L3aL5le"
      }
    },
    {
      "cell_type": "code",
      "source": [
        "# 15. Write a Python program to calculate the factorial of a number provided by the user using a while loop.\n",
        "\n",
        "num = int(input(\"Enter a non-negative integer: \"))\n",
        "\n",
        "if num < 0:\n",
        "  print(\"Factorial is not defined for negative numbers.\")\n",
        "elif num == 0:\n",
        "  print(\"The factorial of 0 is 1.\")\n",
        "else:\n",
        "  factorial = 1\n",
        "  i = 1\n",
        "  while i <= num:\n",
        "    factorial *= i\n",
        "    i += 1\n",
        "  print(f\"The factorial of {num} is {factorial}.\")"
      ],
      "metadata": {
        "colab": {
          "base_uri": "https://localhost:8080/"
        },
        "id": "gGIKUwD2mAeF",
        "outputId": "b07212b3-d788-49dc-e864-8fcfac19b8fd"
      },
      "execution_count": 44,
      "outputs": [
        {
          "output_type": "stream",
          "name": "stdout",
          "text": [
            "Enter a non-negative integer: 4\n",
            "The factorial of 4 is 24.\n"
          ]
        }
      ]
    },
    {
      "cell_type": "code",
      "source": [
        "# 14. Write a program to reverse a string using a while loop.\n",
        "\n",
        "my_string = \"rohan\"\n",
        "reversed_str = \"\"\n",
        "index = len(my_string) -1\n",
        "\n",
        "while index >= 0:\n",
        "  reversed_str += my_string[index]\n",
        "  index -= 1\n",
        "\n",
        "print(reversed_str)"
      ],
      "metadata": {
        "colab": {
          "base_uri": "https://localhost:8080/"
        },
        "id": "8BQ5BIeRkRYS",
        "outputId": "1c502226-e26e-4b73-9ad5-b8c7acd9c2a4"
      },
      "execution_count": 43,
      "outputs": [
        {
          "output_type": "stream",
          "name": "stdout",
          "text": [
            "nahor\n"
          ]
        }
      ]
    },
    {
      "cell_type": "code",
      "source": [
        "# 13. Write a Python program to find the sum of all even numbers between 1 and 50.\n",
        "\n",
        "total_sum = 0\n",
        "for i in range(1, 51):\n",
        "  if (i % 2 == 0):\n",
        "    total_sum += i\n",
        "\n",
        "print(\"The sum of all even numbers between 1 and 50 is:\", total_sum)"
      ],
      "metadata": {
        "colab": {
          "base_uri": "https://localhost:8080/"
        },
        "id": "yxtmtP03ip5F",
        "outputId": "eb17f582-eda6-4e8d-91d5-6bc322d58e17"
      },
      "execution_count": 34,
      "outputs": [
        {
          "output_type": "stream",
          "name": "stdout",
          "text": [
            "The sum of all even numbers between 1 and 50 is: 650\n"
          ]
        }
      ]
    },
    {
      "cell_type": "code",
      "source": [
        "# 12. Write a for loop to print numbers from 1 to 10.\n",
        "\n",
        "for i in range(1,10):\n",
        "  print(i,end=\" \")"
      ],
      "metadata": {
        "colab": {
          "base_uri": "https://localhost:8080/"
        },
        "id": "kNbsHW1Eh9hA",
        "outputId": "064ccf23-f83d-427a-f698-81e878d9bdc1"
      },
      "execution_count": 29,
      "outputs": [
        {
          "output_type": "stream",
          "name": "stdout",
          "text": [
            "1 2 3 4 5 6 7 8 9 "
          ]
        }
      ]
    },
    {
      "cell_type": "code",
      "source": [
        "# 11. Write a program that checks if a number is positive, negative, or zero.\n",
        "\n",
        "num = float(input(\"Enter a number: \"))\n",
        "\n",
        "if num > 0:\n",
        "  print(\"The number is positive.\")\n",
        "elif num < 0:\n",
        "  print(\"The number is negative.\")\n",
        "else:\n",
        "  print(\"The number is zero.\")"
      ],
      "metadata": {
        "colab": {
          "base_uri": "https://localhost:8080/"
        },
        "id": "MH2DmeBhhhFq",
        "outputId": "643e028c-9c81-4028-c23f-6fad73b8c10c"
      },
      "execution_count": 25,
      "outputs": [
        {
          "output_type": "stream",
          "name": "stdout",
          "text": [
            "Enter a number: 3.0\n",
            "The number is positive.\n"
          ]
        }
      ]
    },
    {
      "cell_type": "code",
      "source": [
        "\n",
        "# 10. Write code to demonstrate type casting with list elements.\n",
        "\n",
        "my_list=[1,2,3,4.5,\"amit\"]\n",
        "print(\"org:\",my_list)\n",
        "\n",
        "my_list[3]=int(4.5)\n",
        "print(\"modified:\",my_list)\n",
        "\n",
        "my_list[2]=float(3)\n",
        "print(\"modified 2:\",my_list)"
      ],
      "metadata": {
        "colab": {
          "base_uri": "https://localhost:8080/"
        },
        "id": "QbdRDmqEgL2V",
        "outputId": "f485e9cc-0a33-4235-d479-1ada4b9d8c4a"
      },
      "execution_count": 24,
      "outputs": [
        {
          "output_type": "stream",
          "name": "stdout",
          "text": [
            "org: [1, 2, 3, 4.5, 'amit']\n",
            "modified: [1, 2, 3, 4, 'amit']\n",
            "modified 2: [1, 2, 3.0, 4, 'amit']\n"
          ]
        }
      ]
    },
    {
      "cell_type": "code",
      "source": [
        "# 9. Write a Python program to convert user input from string to integer, float, and boolean types.\n",
        "\n",
        "user_input_str = input(\"Enter a value: \")\n",
        "\n",
        "try:\n",
        "  int_value = int(user_input_str)\n",
        "  print(f\"Converted to integer: {int_value} (type: {type(int_value)})\")\n",
        "except ValueError:\n",
        "  print(f\"Could not convert '{user_input_str}' to integer.\"\n",
        "\n",
        "try:\n",
        "  float_value = float(user_input_str)\n",
        "  print(f\"Converted to float: {float_value} (type: {type(float_value)})\")\n",
        "except ValueError:\n",
        "  print(f\"Could not convert '{user_input_str}' to float.\")\n",
        "\n",
        "\n",
        "bool_value = user_input_str.lower() in ['true', '1'] or (user_input_str.lower() not in ['false', '0', ''])\n",
        "print(f\"Converted to boolean: {bool_value} (type: {type(bool_value)})\")"
      ],
      "metadata": {
        "id": "uWOIY4v9fNdu"
      },
      "execution_count": null,
      "outputs": []
    },
    {
      "cell_type": "code",
      "source": [
        "# 8. Write a program to demonstrate the use of logical operators.\n",
        "#code\n",
        "\n",
        "x = 10\n",
        "y = 5\n",
        "z = 15\n",
        "\n",
        "print(f\"x = {x}, y = {y}, z = {z}\")\n",
        "\n",
        "print(\"\\nLogical AND:\")\n",
        "print(f\"x > 5 and y < 10: {x > 5 and y < 10}\")\n",
        "print(f\"x > 5 and y > 10: {x > 5 and y > 10}\")\n",
        "\n",
        "print(\"\\nLogical OR:\")\n",
        "print(f\"x > 5 or y > 10: {x > 5 or y > 10}\")\n",
        "print(f\"x < 5 or y > 10: {x < 5 or y > 10}\")\n",
        "\n",
        "print(\"\\nLogical NOT:\")\n",
        "print(f\"not(x > 5 and y < 10): {not(x > 5 and y < 10)}\")\n",
        "print(f\"not(x > 5 and y > 10): {not(x > 5 and y > 10)}\")"
      ],
      "metadata": {
        "colab": {
          "base_uri": "https://localhost:8080/"
        },
        "id": "Oq-PH_iydW-X",
        "outputId": "fabca7d9-2404-4e7c-c1f4-9c81626704dd"
      },
      "execution_count": 22,
      "outputs": [
        {
          "output_type": "stream",
          "name": "stdout",
          "text": [
            "x = 10, y = 5, z = 15\n",
            "\n",
            "Logical AND:\n",
            "x > 5 and y < 10: True\n",
            "x > 5 and y > 10: False\n",
            "\n",
            "Logical OR:\n",
            "x > 5 or y > 10: True\n",
            "x < 5 or y > 10: False\n",
            "\n",
            "Logical NOT:\n",
            "not(x > 5 and y < 10): False\n",
            "not(x > 5 and y > 10): True\n"
          ]
        }
      ]
    },
    {
      "cell_type": "code",
      "source": [
        "# 7. Write a program that performs basic arithmetic operations on two user-input numbers.\n",
        "#code\n",
        "num1=int(input(\"enter the first number\"))\n",
        "num2=int(input(\"enter the second number\"))\n",
        "add=num1+num2\n",
        "sub=num1-num2\n",
        "mul=num1*num2\n",
        "div=num1/num2\n",
        "print(\"addition:\",add)\n",
        "print(\"subtraction:\",sub)\n",
        "print(\"multiplication:\",mul)\n",
        "print(\"division:\",div)\n"
      ],
      "metadata": {
        "colab": {
          "base_uri": "https://localhost:8080/"
        },
        "id": "Nj-cn4SNc7kP",
        "outputId": "9090aed4-3de7-4415-d029-e9ef70d73bd8"
      },
      "execution_count": 20,
      "outputs": [
        {
          "output_type": "stream",
          "name": "stdout",
          "text": [
            "enter the first number12\n",
            "enter the second number13\n",
            "addition: 25\n",
            "subtraction: -1\n",
            "multiplication: 156\n",
            "division: 0.9230769230769231\n"
          ]
        }
      ]
    },
    {
      "cell_type": "code",
      "source": [
        "#  6. Write a function to demonstrate the behavior of mutable and immutable arguments.\n",
        "#code\n",
        "my_list=[1,2,4,6,7]\n",
        "print(\"orginal:\",my_list)\n",
        "\n",
        "my_list[4]=5\n",
        "print(\"modified:\",my_list)\n",
        "\n",
        "string=\"rohan\"\n",
        "print(\"\\norginal:\",string)\n",
        "\n",
        "string[1]=\"a\"\n",
        "print(\"modified:\",string)"
      ],
      "metadata": {
        "colab": {
          "base_uri": "https://localhost:8080/",
          "height": 273
        },
        "id": "hiMji4wGbX2u",
        "outputId": "3de6d621-f20c-4765-a1c0-ac23d9600983"
      },
      "execution_count": 18,
      "outputs": [
        {
          "output_type": "stream",
          "name": "stdout",
          "text": [
            "orginal: [1, 2, 4, 6, 7]\n",
            "modified: [1, 2, 4, 6, 5]\n",
            "\n",
            "orginal: rohan\n"
          ]
        },
        {
          "output_type": "error",
          "ename": "TypeError",
          "evalue": "'str' object does not support item assignment",
          "traceback": [
            "\u001b[0;31m---------------------------------------------------------------------------\u001b[0m",
            "\u001b[0;31mTypeError\u001b[0m                                 Traceback (most recent call last)",
            "\u001b[0;32m/tmp/ipython-input-3917926674.py\u001b[0m in \u001b[0;36m<cell line: 0>\u001b[0;34m()\u001b[0m\n\u001b[1;32m     10\u001b[0m \u001b[0mprint\u001b[0m\u001b[0;34m(\u001b[0m\u001b[0;34m\"\\norginal:\"\u001b[0m\u001b[0;34m,\u001b[0m\u001b[0mstring\u001b[0m\u001b[0;34m)\u001b[0m\u001b[0;34m\u001b[0m\u001b[0;34m\u001b[0m\u001b[0m\n\u001b[1;32m     11\u001b[0m \u001b[0;34m\u001b[0m\u001b[0m\n\u001b[0;32m---> 12\u001b[0;31m \u001b[0mstring\u001b[0m\u001b[0;34m[\u001b[0m\u001b[0;36m1\u001b[0m\u001b[0;34m]\u001b[0m\u001b[0;34m=\u001b[0m\u001b[0;34m\"a\"\u001b[0m\u001b[0;34m\u001b[0m\u001b[0;34m\u001b[0m\u001b[0m\n\u001b[0m\u001b[1;32m     13\u001b[0m \u001b[0mprint\u001b[0m\u001b[0;34m(\u001b[0m\u001b[0;34m\"modified:\"\u001b[0m\u001b[0;34m,\u001b[0m\u001b[0mstring\u001b[0m\u001b[0;34m)\u001b[0m\u001b[0;34m\u001b[0m\u001b[0;34m\u001b[0m\u001b[0m\n",
            "\u001b[0;31mTypeError\u001b[0m: 'str' object does not support item assignment"
          ]
        }
      ]
    },
    {
      "cell_type": "code",
      "source": [
        "# 5.. Create a list and tuple in Python, and demonstrate how attempting to change an element works differently for each\n",
        "#code\n",
        "\n",
        "my_list = [1, 2, 3, 4, 5]\n",
        "print(\"Original List:\", my_list)\n",
        "\n",
        "my_list[0] = 10\n",
        "print(\"Modified List:\", my_list)\n",
        "\n",
        "my_tuple = (1, 2, 3, 4, 5)\n",
        "print(\"\\nOriginal Tuple:\", my_tuple)\n",
        "\n",
        "try:\n",
        "  my_tuple[0] = 10\n",
        "except TypeError as e:\n",
        "  print(\"Error attempting to modify tuple:\", e)"
      ],
      "metadata": {
        "colab": {
          "base_uri": "https://localhost:8080/"
        },
        "id": "XAWz99CvagkH",
        "outputId": "3684f378-dcb4-4e30-9ec9-9e4fe57d220f"
      },
      "execution_count": 14,
      "outputs": [
        {
          "output_type": "stream",
          "name": "stdout",
          "text": [
            "Original List: [1, 2, 3, 4, 5]\n",
            "Modified List: [10, 2, 3, 4, 5]\n",
            "\n",
            "Original Tuple: (1, 2, 3, 4, 5)\n",
            "Error attempting to modify tuple: 'tuple' object does not support item assignment\n"
          ]
        }
      ]
    },
    {
      "cell_type": "code",
      "source": [
        "# 4. Write a program that checks if a given word is a Python keyword.\n",
        "#code\n",
        "import keyword\n",
        "word =input(\"enter the word\")\n",
        "if keyword.iskeyword(word):\n",
        "    print(f\"'{word}' is a keyword\")\n",
        "else:\n",
        "    print(f\"'{word}' is not a keyword\")\n",
        "\n"
      ],
      "metadata": {
        "colab": {
          "base_uri": "https://localhost:8080/"
        },
        "id": "4HyTpzIqYbg8",
        "outputId": "75d58ee0-1622-4cde-af36-bf550741890b"
      },
      "execution_count": 13,
      "outputs": [
        {
          "output_type": "stream",
          "name": "stdout",
          "text": [
            "enter the worddef\n",
            "'def' is a keyword\n"
          ]
        }
      ]
    },
    {
      "cell_type": "code",
      "source": [
        "# 3. Write code to print all the pre-defined keywords in Python using the keyword library\n",
        "#code-\n",
        "import keyword\n",
        "print(keyword.kwlist)"
      ],
      "metadata": {
        "colab": {
          "base_uri": "https://localhost:8080/"
        },
        "id": "AG5lUDgdX9ip",
        "outputId": "8302844e-5212-4793-d656-f0bef4c575a3"
      },
      "execution_count": 10,
      "outputs": [
        {
          "output_type": "stream",
          "name": "stdout",
          "text": [
            "['False', 'None', 'True', 'and', 'as', 'assert', 'async', 'await', 'break', 'class', 'continue', 'def', 'del', 'elif', 'else', 'except', 'finally', 'for', 'from', 'global', 'if', 'import', 'in', 'is', 'lambda', 'nonlocal', 'not', 'or', 'pass', 'raise', 'return', 'try', 'while', 'with', 'yield']\n"
          ]
        }
      ]
    },
    {
      "cell_type": "code",
      "source": [
        "# 1. Write a Python program to print \"Hello, World!\n",
        "#code-\n",
        "print(\"Hello,World!\")"
      ],
      "metadata": {
        "colab": {
          "base_uri": "https://localhost:8080/"
        },
        "id": "XYajM435S3Db",
        "outputId": "5ef29a2d-9c31-48ee-8d1c-1a919da828c2"
      },
      "execution_count": 8,
      "outputs": [
        {
          "output_type": "stream",
          "name": "stdout",
          "text": [
            "Hello,World!\n"
          ]
        }
      ]
    },
    {
      "cell_type": "code",
      "source": [
        "# 2. Write a Python program that displays your name and age\n",
        " #code-\n",
        "name = \"amit\"\n",
        "age = 19\n",
        "\n",
        "print(\"NAME:\",name)\n",
        "print(\"AGE:\",age)"
      ],
      "metadata": {
        "colab": {
          "base_uri": "https://localhost:8080/"
        },
        "id": "unz1GH0ZXCL7",
        "outputId": "e107f852-2e27-4a88-c9cf-f4e1fc5da9e1"
      },
      "execution_count": 9,
      "outputs": [
        {
          "output_type": "stream",
          "name": "stdout",
          "text": [
            "NAME: amit\n",
            "AGE: 19\n"
          ]
        }
      ]
    }
  ]
}