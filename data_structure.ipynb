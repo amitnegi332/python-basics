{
  "nbformat": 4,
  "nbformat_minor": 0,
  "metadata": {
    "colab": {
      "provenance": []
    },
    "kernelspec": {
      "name": "python3",
      "display_name": "Python 3"
    },
    "language_info": {
      "name": "python"
    }
  },
  "cells": [
    {
      "cell_type": "markdown",
      "source": [
        "\n",
        "\n",
        "\n",
        "1.What are data structures, and why are they important?\n",
        "\n",
        " Data structures are ways of organizing and storing data in a computer so that it can be accessed and modified efficiently. They are important because they provide a means to manage large amounts of data, making it easier to search, sort, insert, and delete data. The choice of data structure can significantly impact the performance and efficiency of an algorithm or program.\n",
        "\n",
        "2.Explain the difference between mutable and immutable data types with examples.\n",
        "\n",
        "  Mutable data types can be changed after they are created. This means you can modify their elements or contents in place. Examples include lists, dictionaries, and sets.\n",
        "  \n",
        "  Immutable data types cannot be changed after they are created. Any operation that appears to modify an immutable object actually creates a new object. Examples include strings, tuples, numbers (integers, floats), and booleans.\n",
        "\n",
        "3.What are the main differences between lists and tuples in Python?\n",
        "\n",
        "  Mutability: Lists are mutable (can be changed after creation), while tuples are immutable (cannot be changed after creation).\n",
        "\n",
        "  Syntax: Lists are defined using square brackets [], while tuples are defined using parentheses ().\n",
        "\n",
        "  Use Cases: Lists are typically used for collections of items that might change (e.g., adding or removing elements). Tuples are often used for collections of items that should not change (e.g., coordinates, database records).\n",
        "\n",
        "Performance: Tuples can be slightly faster than lists in some operations due to their immutability.\n",
        "\n",
        "4.Describe how dictionaries store data. Dictionaries store data as key-value pairs. Each key must be unique and immutable (like strings, numbers, or tuples), and it maps to a corresponding value, which can be of any data type. Dictionaries are unordered collections (in Python versions prior to 3.7; they maintain insertion order from 3.7 onwards). You access values using their associated keys.\n",
        "\n",
        "5.Why might you use a set instead of a list in Python? You might use a set instead of a list when:\n",
        "\n",
        "You need to store a collection of unique elements (sets automatically handle duplicate values).\n",
        "\n",
        "You need to perform set operations like union, intersection, difference, and symmetric difference efficiently.\n",
        "\n",
        "You need to check for the presence of an element quickly (set membership testing is generally faster than list membership testing, especially for large collections).\n",
        "\n",
        "6.What is a string in Python, and how is it different from a list?\n",
        "\n",
        " A string in Python is a sequence of characters. It is an immutable data type. While both strings and lists are sequences and can be iterated over and accessed by index, the key difference is mutability. You can change elements in a list, but you cannot change individual characters in a string. Any operation that seems to modify a string actually creates a new string.\n",
        "\n",
        "7.How do tuples ensure data integrity in Python?\n",
        "\n",
        " Tuples ensure data integrity because they are immutable. Once a tuple is created, its contents cannot be changed. This prevents accidental modification of the data, making them suitable for representing fixed collections of related items where the data should remain constant.\n",
        "\n",
        "8.What is a hash table, and how does it relate to dictionaries in Python?\n",
        "\n",
        " A hash table (or hash map) is a data structure that implements an associative array, allowing you to store and retrieve data efficiently using keys. Dictionaries in Python are implemented using hash tables. When you add a key-value pair to a dictionary, Python calculates a hash value for the key and uses it to determine where to store the value in memory. When you look up a value using a key, Python again calculates the hash value and uses it to quickly find the corresponding value.\n",
        "\n",
        "9.Can lists contain different data types in Python?\n",
        "\n",
        " Yes, lists in Python can contain elements of different data types. A single list can hold integers, floats, strings, booleans, other lists, dictionaries, or any other Python object.\n",
        "\n",
        "10.Explain why strings are immutable in Python.\n",
        "\n",
        " Strings are immutable in Python because this design choice offers several advantages:\n",
        "Efficiency: Immutable objects can be cached and reused, which can improve performance.\n",
        "\n",
        "Thread Safety: Immutable objects are inherently thread-safe because multiple threads can access them simultaneously without worrying about one thread modifying the object while another is reading it.\n",
        "\n",
        "Hashability: Immutable objects can be used as keys in dictionaries because their hash value remains constant. If strings were mutable, their hash value could change, making it impossible to reliably look them up in a dictionary.\n",
        "\n",
        "11.What advantages do dictionaries offer over lists for certain tasks?\n",
        "\n",
        "Dictionaries offer advantages over lists when you need to:\n",
        "Access data by a meaningful key: Instead of accessing elements by numerical index, you can use descriptive keys (like names, IDs, etc.) to retrieve values directly.\n",
        "Store and retrieve data quickly based on a key: Dictionary lookups are generally much faster than searching for an element in a list, especially for large collections.\n",
        "Represent relationships between data: Dictionaries are ideal for mapping one set of values to another.\n",
        "\n",
        "12.How do sets handle duplicate values in Python?\n",
        "\n",
        " Sets automatically handle duplicate values by only storing one instance of each unique element. When you add an element to a set that is already present, the set remains unchanged.\n",
        "\n",
        "13.Describe a scenario where using a tuple would be preferable over a list.\n",
        "\n",
        "A scenario where using a tuple would be preferable over a list is when you need to represent a fixed collection of related items, such as:\n",
        "Coordinates: (x, y) or (latitude, longitude)\n",
        "\n",
        "Database records: A row from a database table where the fields should not be changed.\n",
        "\n",
        "Function arguments: When a function needs to return multiple values, returning them as a tuple ensures that the returned values are not accidentally modified by the caller.\n",
        "\n",
        "14.How does the “in” keyword work differently for lists and dictionaries?\n",
        "\n",
        "For lists, the in keyword checks if an element exists as a value within the list. It performs a linear search, checking each element until a match is found or the list is exhausted.\n",
        "\n",
        "For dictionaries, the in keyword checks if a key exists within the dictionary's keys. It uses the dictionary's hash table implementation, which is generally much faster than a linear search, especially for large dictionaries.\n",
        "\n",
        "15Can you modify the elements of a tuple? Explain why or why not.\n",
        "\n",
        " No, you cannot modify the elements of a tuple because tuples are immutable. Once a tuple is created, its contents are fixed. If you need to change the data, you would need to create a new tuple with the desired modifications.\n",
        "\n",
        "16.What is a nested dictionary, and give an example of its use case.\n",
        "\n",
        " A nested dictionary is a dictionary where one or more of the values are themselves dictionaries. This allows you to create hierarchical data structures.\n",
        "Use Case Example: Storing information about multiple users, where each user has their own set of attributes.\n",
        "\n",
        "17.Describe the time complexity of accessing elements in a dictionary.\n",
        "\n",
        " In the average case, accessing elements (getting a value by key, setting a value by key, checking for key existence) in a dictionary has a time complexity of O(1) (constant time). This is because dictionaries use hash tables, which allow for very fast lookups on average. In the worst case (due to hash collisions), the time complexity can be O(n) (linear time), but this is rare with a good hash function.\n",
        "\n",
        "18.In what situations are lists preferred over dictionaries? Lists are preferred over dictionaries when:\n",
        "\n",
        "You need to maintain the order of elements.\n",
        "You need to access elements by their numerical index or position.\n",
        "You need to store a collection of items where duplicates are allowed and the primary way of accessing them is by their position or by iterating through the collection.\n",
        "\n",
        "19.Why are dictionaries considered unordered, and how does that affect data retrieval?\n",
        "\n",
        "Prior to Python 3.7, dictionaries were considered unordered because the order in which items were stored and retrieved was not guaranteed to be the same as the order in which they were inserted. This was due to the underlying hash table implementation. From Python 3.7 onwards, dictionaries maintain insertion order.\n",
        "\n",
        "In older versions, the \"unordered\" nature meant you couldn't rely on getting items back in a specific sequence when iterating. Data retrieval was always based on the key, not the position. In newer versions, while they maintain insertion order, the primary mode of access is still by key, and they are not designed for operations that rely heavily on positional indexing like lists.\n",
        "\n",
        "20.Explain the difference between a list and a dictionary in terms of data retrieval.\n",
        "\n",
        "Lists: Data retrieval in lists is primarily done by index (position). You access elements using their numerical position starting from 0. You can also iterate through the list or search for a specific value, but direct access by index is the most common method when the position is known.\n",
        "Dictionaries: Data retrieval in dictionaries is done by key. You access values using their associated unique key. You cannot access dictionary elements by a numerical index (unless the keys happen to be integers, but even then, it's key-based access, not positional). Dictionaries are designed for fast lookup of values based on their keys."
      ],
      "metadata": {
        "id": "Qfx2NCK4grT3"
      }
    },
    {
      "cell_type": "markdown",
      "source": [],
      "metadata": {
        "id": "TY_xs_drnAG9"
      }
    },
    {
      "cell_type": "code",
      "source": [
        "# 24. Remove the key \"age\" from the dictionary {'name': 'Bob', 'age': 22, 'city': 'New York'}.\n",
        "dict_to_remove_key = {'name': 'Bob', 'age': 22, 'city': 'New York'}\n",
        "del dict_to_remove_key[\"age\"]\n",
        "print(f\"Dictionary after removing key 'age': {dict_to_remove_key}\")"
      ],
      "metadata": {
        "id": "Gr7gTS1plGCr"
      },
      "execution_count": null,
      "outputs": []
    },
    {
      "cell_type": "code",
      "source": [
        "\n",
        "# 23. Access the value associated with the key \"name\" in the dictionary {'name': 'Alice', 'age': 30}.\n",
        "access_dict = {'name': 'Alice', 'age': 30}\n",
        "name_value = access_dict[\"name\"]\n",
        "print(f\"Value for key 'name': {name_value}\")"
      ],
      "metadata": {
        "id": "NpfycAT_lF_V"
      },
      "execution_count": null,
      "outputs": []
    },
    {
      "cell_type": "code",
      "source": [
        "# 22. Add a new key-value pair \"country\": \"USA\" to the dictionary {'name': 'John', 'age': 25}.\n",
        "dict_to_add = {'name': 'John', 'age': 25}\n",
        "dict_to_add[\"country\"] = \"USA\"\n",
        "print(f\"Dictionary after adding 'country': {dict_to_add}\")"
      ],
      "metadata": {
        "id": "rpROGATnlF85"
      },
      "execution_count": null,
      "outputs": []
    },
    {
      "cell_type": "code",
      "source": [
        "my_dict = {\"name\": \"John\", \"age\": 30, \"city\": \"New York\"}\n",
        "print(my_dict)"
      ],
      "metadata": {
        "id": "l-9Ga4IolF6l"
      },
      "execution_count": null,
      "outputs": []
    },
    {
      "cell_type": "code",
      "source": [
        "# 20. Find the intersection of two sets {1, 2, 3} and {2, 3, 4}.\n",
        "set3 = {1, 2, 3}\n",
        "set4 = {2, 3, 4}\n",
        "intersection_set = set3.intersection(set4)\n",
        "print(f\"Intersection of sets: {intersection_set}\")"
      ],
      "metadata": {
        "id": "bHIDo7azlF4E"
      },
      "execution_count": null,
      "outputs": []
    },
    {
      "cell_type": "code",
      "source": [
        "# 19. Find the union of two sets {1, 2, 3} and {3, 4, 5}.\n",
        "set1 = {1, 2, 3}\n",
        "set2 = {3, 4, 5}\n",
        "union_set = set1.union(set2)\n",
        "print(f\"Union of sets: {union_set}\")"
      ],
      "metadata": {
        "id": "IRIlpARtls9Z"
      },
      "execution_count": null,
      "outputs": []
    },
    {
      "cell_type": "code",
      "source": [
        "\n",
        "# 18. Remove the element 4 from the set {1, 2, 3, 4}.\n",
        "set_to_remove = {1, 2, 3, 4}\n",
        "set_to_remove.remove(4)\n",
        "print(f\"Set after removing 4: {set_to_remove}\")"
      ],
      "metadata": {
        "id": "ysNAjRT2ltgD"
      },
      "execution_count": null,
      "outputs": []
    },
    {
      "cell_type": "code",
      "source": [
        "set_to_clear = {1, 2, 3, 4, 5}\n",
        "set_to_clear.clear()\n",
        "print(set_to_clear)"
      ],
      "metadata": {
        "id": "ZXROCRp9luut"
      },
      "execution_count": null,
      "outputs": []
    },
    {
      "cell_type": "code",
      "source": [
        "# 16. Create a set with the elements 'a', 'b', 'c' and print it.\n",
        "my_set = {'a', 'b', 'c'}\n",
        "print(f\"My set: {my_set}\")"
      ],
      "metadata": {
        "id": "MriaubVxlF2Q"
      },
      "execution_count": null,
      "outputs": []
    },
    {
      "cell_type": "code",
      "source": [
        "fruits_tuple = ('apple', 'banana', 'orange')\n",
        "is_kiwi_in_tuple = \"kiwi\" in fruits_tuple\n",
        "print(is_kiwi_in_tuple)"
      ],
      "metadata": {
        "id": "kMyN-3k0lF0S"
      },
      "execution_count": null,
      "outputs": []
    },
    {
      "cell_type": "code",
      "source": [
        "# 14. Find the index of the element \"cat\" in the tuple ('dog', 'cat', 'rabbit').\n",
        "index_of_cat = ('dog', 'cat', 'rabbit').index(\"cat\")\n",
        "print(f\"Index of 'cat' in tuple: {index_of_cat}\")"
      ],
      "metadata": {
        "id": "gcZBHNpnlFx4"
      },
      "execution_count": null,
      "outputs": []
    },
    {
      "cell_type": "code",
      "source": [
        "# 13. Find the minimum number in the tuple (10, 20, 5, 15).\n",
        "min_number = min(10, 20, 5, 15)\n",
        "print(f\"Minimum number in tuple: {min_number}\")"
      ],
      "metadata": {
        "id": "Sx9b4E2nlFvW"
      },
      "execution_count": null,
      "outputs": []
    },
    {
      "cell_type": "code",
      "source": [
        "# 12. Access the second-to-last element of the tuple ('red', 'green', 'blue', 'yellow').\n",
        "access_tuple = ('red', 'green', 'blue', 'yellow')\n",
        "second_to_last = access_tuple[-2]\n",
        "print(f\"Second-to-last element of tuple: {second_to_last}\")"
      ],
      "metadata": {
        "id": "X0waB1ivlFec"
      },
      "execution_count": null,
      "outputs": []
    },
    {
      "cell_type": "code",
      "source": [
        "\n",
        "# 11. Create a tuple with the elements 100, 200, 300 and print it.\n",
        "my_tuple = (100, 200, 300)\n",
        "print(f\"My tuple: {my_tuple}\""
      ],
      "metadata": {
        "id": "kS5T-kMklFEv"
      },
      "execution_count": null,
      "outputs": []
    },
    {
      "cell_type": "code",
      "source": [
        "# 10. Reverse the list [10, 20, 30, 40, 50].\n",
        "list_to_reverse = [10, 20, 30, 40, 50]\n",
        "list_to_reverse.reverse()\n",
        "print(f\"Reversed list: {list_to_reverse}\")"
      ],
      "metadata": {
        "id": "OwGfG8d5lAGu"
      },
      "execution_count": null,
      "outputs": []
    },
    {
      "cell_type": "code",
      "source": [
        "# 9. Access the second element in the list ['a', 'b', 'c', 'd']\n",
        "access_list = ['a', 'b', 'c', 'd']\n",
        "second_element = access_list[1]\n",
        "print(f\"Second element: {second_element}\")"
      ],
      "metadata": {
        "id": "Bk5zFC32lADU"
      },
      "execution_count": null,
      "outputs": []
    },
    {
      "cell_type": "code",
      "source": [
        "\n",
        "# 8. Remove the number 3 from the list [1, 2, 3, 4, 5]\n",
        "list_to_remove = [1, 2, 3, 4, 5]\n",
        "list_to_remove.remove(3)\n",
        "print(f\"List after removing 3: {list_to_remove}\")"
      ],
      "metadata": {
        "id": "INCFJe1JlABC"
      },
      "execution_count": null,
      "outputs": []
    },
    {
      "cell_type": "code",
      "source": [
        "# 7. Append the number 10 to the list [1, 2, 3, 4]\n",
        "list_to_append = [1, 2, 3, 4]\n",
        "list_to_append.append(10)\n",
        "print(f\"List after appending 10: {list_to_append}\")"
      ],
      "metadata": {
        "id": "pB7SG2WEk_1C"
      },
      "execution_count": null,
      "outputs": []
    },
    {
      "cell_type": "code",
      "source": [
        "# 6. Create a list with numbers 1 to 5 and print it\n",
        "my_list = [1, 2, 3, 4, 5]\n",
        "print(f\"List 1 to 5: {my_list}\")"
      ],
      "metadata": {
        "id": "Kh4cMdK4k_oM"
      },
      "execution_count": null,
      "outputs": []
    },
    {
      "cell_type": "code",
      "source": [
        "\n",
        "# 5. Replace the word \"apple\" with \"orange\" in the string \"I like apple\"\n",
        "replaced_string = \"I like apple\".replace(\"apple\", \"orange\")\n",
        "print(f\"String with replacement: {replaced_string}\")"
      ],
      "metadata": {
        "id": "U0Z6k3Q-k85G"
      },
      "execution_count": null,
      "outputs": []
    },
    {
      "cell_type": "code",
      "source": [
        "\n",
        "# 4. Convert the string \"hello\" to uppercase\n",
        "uppercase_string = \"hello\".upper()\n",
        "print(f\"Uppercase string: {uppercase_string}\")"
      ],
      "metadata": {
        "id": "PeTeYJ1Nk4Vh"
      },
      "execution_count": null,
      "outputs": []
    },
    {
      "cell_type": "code",
      "source": [
        "\n",
        "# 3. Slice the first 3 characters from the string \"Python Programming\"\n",
        "sliced_string = \"Python Programming\"[:3]\n",
        "print(f\"First 3 characters: {sliced_string}\")"
      ],
      "metadata": {
        "id": "6VoErinzk3gO"
      },
      "execution_count": null,
      "outputs": []
    },
    {
      "cell_type": "code",
      "source": [
        "2.# Find the length of the string \"Hello World\"\n",
        "string_length = len(\"Hello World\")\n",
        "print(f\"Length of 'Hello World': {string_length}\")\n"
      ],
      "metadata": {
        "colab": {
          "base_uri": "https://localhost:8080/"
        },
        "id": "wZYuwYAEkZ7P",
        "outputId": "f7c0eccf-fd36-4dab-ab08-c7eb204b1ac7"
      },
      "execution_count": 3,
      "outputs": [
        {
          "output_type": "stream",
          "name": "stdout",
          "text": [
            "Length of 'Hello World': 11\n"
          ]
        }
      ]
    },
    {
      "cell_type": "code",
      "metadata": {
        "colab": {
          "base_uri": "https://localhost:8080/"
        },
        "id": "4de32e70",
        "outputId": "92d7fea9-81c7-4f2a-b7e0-d0a8eb30ad07"
      },
      "source": [
        "# 1. Create a string with your name and print it\n",
        "my_name = \"Your Name\"  # Replace \"Your Name\" with your actual name\n",
        "print(my_name)\n",
        "\n",
        "\n",
        "\n",
        "\n",
        "\n",
        "\n",
        "\n",
        "\n",
        "\n",
        "\n",
        "\n",
        "\n",
        "\n",
        "\n",
        "\n",
        "\n",
        "\n",
        "\n",
        "\n",
        "\n",
        "\n",
        "\n",
        "\n",
        "\n",
        "\n",
        "\n",
        "\n",
        "\n",
        "\n",
        "\n",
        "\n",
        "\n",
        "\n",
        "\n",
        "\n",
        "\n",
        "\n",
        "\n"
      ],
      "execution_count": 4,
      "outputs": [
        {
          "output_type": "stream",
          "name": "stdout",
          "text": [
            "Your Name\n"
          ]
        }
      ]
    }
  ]
}