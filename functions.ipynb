{
  "nbformat": 4,
  "nbformat_minor": 0,
  "metadata": {
    "colab": {
      "provenance": []
    },
    "kernelspec": {
      "name": "python3",
      "display_name": "Python 3"
    },
    "language_info": {
      "name": "python"
    }
  },
  "cells": [
    {
      "cell_type": "markdown",
      "source": [],
      "metadata": {
        "id": "MmewKShIL2ET"
      }
    },
    {
      "cell_type": "markdown",
      "metadata": {
        "id": "a9a1f394"
      },
      "source": [
        "## 1. What is the difference between a function and a method in Python?\n",
        "\n",
        "*   **Function:** A function is a block of reusable code that performs a specific task. Functions can be defined independently and called from anywhere in your program. They operate on data that is passed to them as arguments.\n",
        "\n",
        "*   **Method:** A method is also a block of reusable code that performs a specific task, but it is associated with an object. Methods are defined within a class, and they operate on the data (attributes) of the object they are called on. You call a method using dot notation on an object (e.g., `object.method()`).\n",
        "\n",
        "In essence, a method is a function that belongs to an object."
      ]
    },
    {
      "cell_type": "markdown",
      "metadata": {
        "id": "8e9d0f17"
      },
      "source": [
        "## 2. Explain the concept of function arguments and parameters in Python.\n",
        "\n",
        "*   **Parameters:** Parameters are the names listed in the function definition. They act as placeholders for the values that will be passed into the function when it is called.\n",
        "\n",
        "*   **Arguments:** Arguments are the actual values that are passed to the function when it is called. These values are assigned to the corresponding parameters within the function's scope.\n",
        "\n",
        "Think of parameters as variables declared in the function's signature, and arguments as the values assigned to those variables when the function is executed."
      ]
    },
    {
      "cell_type": "markdown",
      "metadata": {
        "id": "876142e9"
      },
      "source": [
        "## 3. What are the different ways to define and call a function in Python?\n",
        "\n",
        "**Defining a function:**\n",
        "\n",
        "Functions are defined using the `def` keyword, followed by the function name, parentheses `()`, and a colon `:`. The function body is indented."
      ]
    },
    {
      "cell_type": "code",
      "metadata": {
        "colab": {
          "base_uri": "https://localhost:8080/"
        },
        "id": "c01f87a4",
        "outputId": "62024998-c7d4-4b5b-903d-40d5eb9b7f85"
      },
      "source": [
        "def my_function(parameter1, parameter2):\n",
        "  \"\"\"A sample function that returns the sum of its parameters.\"\"\"\n",
        "  return parameter1 + parameter2\n",
        "\n",
        "output = my_function(10, 20)\n",
        "print(output)\n",
        "\n",
        "output = my_function(parameter2=20, parameter1=10)\n",
        "print(output)"
      ],
      "execution_count": 25,
      "outputs": [
        {
          "output_type": "stream",
          "name": "stdout",
          "text": [
            "30\n",
            "30\n"
          ]
        }
      ]
    },
    {
      "cell_type": "markdown",
      "metadata": {
        "id": "5dead7a2"
      },
      "source": [
        "## 4. What is the purpose of the `return` statement in a Python function?\n",
        "\n",
        "The `return` statement is used to exit a function and send a value back to the caller. If a `return` statement is not present in a function, the function will return `None` by default."
      ]
    },
    {
      "cell_type": "markdown",
      "metadata": {
        "id": "b1c3f3c2"
      },
      "source": [
        "## 5. What are iterators in Python and how do they differ from iterables?\n",
        "\n",
        "*   **Iterable:** An iterable is an object that can be iterated over, meaning you can traverse through its elements one by one. Examples of iterables include lists, tuples, strings, and dictionaries. An object is iterable if it has an `__iter__()` method that returns an iterator.\n",
        "\n",
        "*   **Iterator:** An iterator is an object that represents a stream of data. It is used to iterate over an iterable. An iterator must have two methods:\n",
        "    *   `__iter__()`: Returns the iterator object itself.\n",
        "    *   `__next__()`: Returns the next item from the iteration. If there are no more items, it should raise the `StopIteration` exception.\n",
        "\n",
        "In short, an iterable is something you can loop over, while an iterator is the object that performs the looping. You get an iterator from an iterable using the `iter()` function."
      ]
    },
    {
      "cell_type": "markdown",
      "metadata": {
        "id": "8647494c"
      },
      "source": [
        "## 6. Explain the concept of generators in Python and how they are defined.\n",
        "\n",
        "Generators are a special type of iterator in Python. They are functions that *yield* a sequence of values instead of returning a single value. Generators are memory-efficient because they produce values on demand, one at a time, rather than creating the entire sequence in memory at once.\n",
        "\n",
        "Generators are defined using the `def` keyword, just like regular functions, but they use the `yield` keyword instead of `return` to produce values."
      ]
    },
    {
      "cell_type": "markdown",
      "metadata": {
        "id": "9defd8ca"
      },
      "source": [
        "## 7. What are the advantages of using generators over regular functions?\n",
        "\n",
        "*   **Memory Efficiency:** Generators produce values one at a time, making them ideal for working with large datasets or infinite sequences where storing all values in memory would be impractical or impossible.\n",
        "*   **Lazy Evaluation:** Values are generated only when they are needed, which can improve performance when you don't need to process the entire sequence at once.\n",
        "*   **Simpler Code:** Generators can often lead to more concise and readable code compared to writing custom iterator classes.\n",
        "*   **Pipelining:** Generators can be easily chained together to create data processing pipelines."
      ]
    },
    {
      "cell_type": "markdown",
      "metadata": {
        "id": "21d477dc"
      },
      "source": [
        "## 8. What is a lambda function in Python and when is it typically used?\n",
        "\n",
        "A lambda function is a small, anonymous function defined using the `lambda` keyword. It can have any number of arguments but can only have one expression. The result of the expression is the value returned by the lambda function.\n",
        "\n",
        "Lambda functions are typically used for short, simple operations where a full function definition would be overly verbose. They are often used with functions like `map()`, `filter()`, and `sorted()`."
      ]
    },
    {
      "cell_type": "markdown",
      "metadata": {
        "id": "253437b0"
      },
      "source": [
        "## 9. Explain the purpose and usage of the `map()` function in Python.\n",
        "\n",
        "The `map()` function applies a given function to each item of an iterable and returns an iterator that yields the results. It's a convenient way to perform the same operation on every element of a sequence.\n",
        "\n",
        "The syntax is `map(function, iterable)`."
      ]
    },
    {
      "cell_type": "markdown",
      "metadata": {
        "id": "cb217814"
      },
      "source": [
        "## 10. What is the difference between `map()`, `reduce()`, and `filter()` functions in Python?\n",
        "\n",
        "These are three built-in functions that are often used with iterables, but they serve different purposes:\n",
        "\n",
        "*   **`map()`:** Applies a function to each item of an iterable and returns an iterator of the results. It transforms each element individually.\n",
        "\n",
        "*   **`filter()`:** Filters elements from an iterable based on a function that returns `True` or `False`. It returns an iterator containing only the elements for which the function returned `True`. It selects elements based on a condition.\n",
        "\n",
        "*   **`reduce()`:** (Found in the `functools` module) Applies a function cumulatively to the items of an iterable, from left to right, to reduce the iterable to a single value. It combines elements sequentially.\n",
        "\n",
        "Here's a quick example:"
      ]
    },
    {
      "cell_type": "markdown",
      "source": [
        "11. Using pen & Paper write the internal mechanism for sum operation using reduce function on this given list[47,11,42,13]\n",
        "\n",
        "Initial Call: The reduce() function takes a function (in this case, a function that performs addition) and the iterable (the list [47, 11, 42, 13]).\n",
        "First Iteration: reduce() takes the first two elements of the list (47 and 11) and applies the function to them.\n",
        "47 + 11 = 58\n",
        "\n",
        "Second Iteration: The result from the first iteration (58) is then used as the first argument, and the next element from the list (42) is used as the second argument. The function is applied again.\n",
        "58 + 42 = 100\n",
        "\n",
        "Third Iteration: The result from the second iteration (100) is used as the first argument, and the last element from the list (13) is used as the second argument. The function is applied one last time.\n",
        "100 + 13 = 113\n",
        "\n",
        "Final Result: Since there are no more elements in the list, reduce() returns the final result, which is 113."
      ],
      "metadata": {
        "id": "kTn-VfWdPS8F"
      }
    },
    {
      "cell_type": "markdown",
      "metadata": {
        "id": "d541bc2e"
      },
      "source": [
        "## 2. Create a Python function that accepts a string and returns the reverse of that string."
      ]
    },
    {
      "cell_type": "code",
      "metadata": {
        "colab": {
          "base_uri": "https://localhost:8080/"
        },
        "id": "21804281",
        "outputId": "8028c8ba-4d2d-433c-f3cc-5333602b0d04"
      },
      "source": [
        "def reverse_string(input_string):\n",
        "  \"\"\"\n",
        "  This function takes a string and returns its reverse.\n",
        "  \"\"\"\n",
        "  return input_string[::-1]\n",
        "\n",
        "my_string = \"Hello, World!\"\n",
        "reversed_string = reverse_string(my_string)\n",
        "print(f\"The original string is: {my_string}\")\n",
        "print(f\"The reversed string is: {reversed_string}\")"
      ],
      "execution_count": 15,
      "outputs": [
        {
          "output_type": "stream",
          "name": "stdout",
          "text": [
            "The original string is: Hello, World!\n",
            "The reversed string is: !dlroW ,olleH\n"
          ]
        }
      ]
    },
    {
      "cell_type": "markdown",
      "metadata": {
        "id": "9079b091"
      },
      "source": [
        "## 3. Implement a Python function that takes a list of integers and returns a new list containing the squares of each number."
      ]
    },
    {
      "cell_type": "code",
      "metadata": {
        "colab": {
          "base_uri": "https://localhost:8080/"
        },
        "id": "32b06b3e",
        "outputId": "48775408-4ff8-4261-9ad5-5ef9d86891a0"
      },
      "source": [
        "def square_numbers(numbers):\n",
        "  \"\"\"\n",
        "  This function takes a list of integers and returns a new list with the squares of each number.\n",
        "  \"\"\"\n",
        "  squared_list = [number**2 for number in numbers]\n",
        "  return squared_list\n",
        "\n",
        "my_list = [1, 2, 3, 4, 5]\n",
        "squared_numbers = square_numbers(my_list)\n",
        "print(f\"Original list: {my_list}\")\n",
        "print(f\"List with squared numbers: {squared_numbers}\")"
      ],
      "execution_count": 16,
      "outputs": [
        {
          "output_type": "stream",
          "name": "stdout",
          "text": [
            "Original list: [1, 2, 3, 4, 5]\n",
            "List with squared numbers: [1, 4, 9, 16, 25]\n"
          ]
        }
      ]
    },
    {
      "cell_type": "markdown",
      "metadata": {
        "id": "e1f0b4b7"
      },
      "source": [
        "## 4. Write a Python function that checks if a given number is prime or not from 1 to 200."
      ]
    },
    {
      "cell_type": "code",
      "metadata": {
        "colab": {
          "base_uri": "https://localhost:8080/"
        },
        "id": "b9d0e026",
        "outputId": "41a57c0f-a45d-4482-bf0f-c0f6dbcc7386"
      },
      "source": [
        "import math\n",
        "\n",
        "def is_prime(number):\n",
        "  \"\"\"\n",
        "  This function checks if a given number (between 1 and 200) is prime.\n",
        "  \"\"\"\n",
        "  if number < 2 or number > 200:\n",
        "    return \"Number is outside the range 1 to 200\"\n",
        "  if number == 2:\n",
        "    return True\n",
        "  if number % 2 == 0:\n",
        "    return False\n",
        "  for i in range(3, int(math.sqrt(number)) + 1, 2):\n",
        "    if number % i == 0:\n",
        "      return False\n",
        "  return True\n",
        "\n",
        "print(f\"Is 7 prime? {is_prime(7)}\")\n",
        "print(f\"Is 10 prime? {is_prime(10)}\")\n",
        "print(f\"Is 199 prime? {is_prime(199)}\")\n",
        "print(f\"Is 201 prime? {is_prime(201)}\")"
      ],
      "execution_count": 17,
      "outputs": [
        {
          "output_type": "stream",
          "name": "stdout",
          "text": [
            "Is 7 prime? True\n",
            "Is 10 prime? False\n",
            "Is 199 prime? True\n",
            "Is 201 prime? Number is outside the range 1 to 200\n"
          ]
        }
      ]
    },
    {
      "cell_type": "markdown",
      "metadata": {
        "id": "c360225d"
      },
      "source": [
        "## 5. Create an iterator class in Python that generates the Fibonacci sequence up to a specified number of terms."
      ]
    },
    {
      "cell_type": "code",
      "metadata": {
        "colab": {
          "base_uri": "https://localhost:8080/"
        },
        "id": "85be124f",
        "outputId": "7879810c-7fa0-4bb2-c39e-0359eddecf7d"
      },
      "source": [
        "class FibonacciIterator:\n",
        "  \"\"\"\n",
        "  An iterator class that generates the Fibonacci sequence up to a specified number of terms.\n",
        "  \"\"\"\n",
        "  def __init__(self, num_terms):\n",
        "    self.num_terms = num_terms\n",
        "    self.current_term = 0\n",
        "    self.a, self.b = 0, 1\n",
        "\n",
        "  def __iter__(self):\n",
        "    return self\n",
        "\n",
        "  def __next__(self):\n",
        "    if self.current_term < self.num_terms:\n",
        "      if self.current_term == 0:\n",
        "        self.current_term += 1\n",
        "        return self.a\n",
        "      elif self.current_term == 1:\n",
        "        self.current_term += 1\n",
        "        return self.b\n",
        "      else:\n",
        "        next_fib = self.a + self.b\n",
        "        self.a = self.b\n",
        "        self.b = next_fib\n",
        "        self.current_term += 1\n",
        "        return next_fib\n",
        "    else:\n",
        "      raise StopIteration\n",
        "\n",
        "fib_iterator = FibonacciIterator(10)\n",
        "print(\"Fibonacci sequence up to 10 terms:\")\n",
        "for term in fib_iterator:\n",
        "  print(term)"
      ],
      "execution_count": 18,
      "outputs": [
        {
          "output_type": "stream",
          "name": "stdout",
          "text": [
            "Fibonacci sequence up to 10 terms:\n",
            "0\n",
            "1\n",
            "1\n",
            "2\n",
            "3\n",
            "5\n",
            "8\n",
            "13\n",
            "21\n",
            "34\n"
          ]
        }
      ]
    },
    {
      "cell_type": "markdown",
      "metadata": {
        "id": "c936286f"
      },
      "source": [
        "## 6. Write a generator function in Python that yields the powers of 2 up to a given exponent."
      ]
    },
    {
      "cell_type": "code",
      "metadata": {
        "colab": {
          "base_uri": "https://localhost:8080/"
        },
        "id": "b7c74c61",
        "outputId": "30e7af50-e2f8-48c8-ff92-03c776580c26"
      },
      "source": [
        "def powers_of_two(exponent):\n",
        "  \"\"\"\n",
        "  A generator function that yields powers of 2 up to a given exponent.\n",
        "  \"\"\"\n",
        "  for i in range(exponent + 1):\n",
        "    yield 2**i\n",
        "\n",
        "powers = powers_of_two(5)\n",
        "print(\"Powers of 2 up to exponent 5:\")\n",
        "for power in powers:\n",
        "  print(power)"
      ],
      "execution_count": 19,
      "outputs": [
        {
          "output_type": "stream",
          "name": "stdout",
          "text": [
            "Powers of 2 up to exponent 5:\n",
            "1\n",
            "2\n",
            "4\n",
            "8\n",
            "16\n",
            "32\n"
          ]
        }
      ]
    },
    {
      "cell_type": "markdown",
      "metadata": {
        "id": "d465b13b"
      },
      "source": [
        "## 1. Write a Python function that takes a list of numbers as input and returns the sum of all even numbers in the list."
      ]
    },
    {
      "cell_type": "code",
      "metadata": {
        "colab": {
          "base_uri": "https://localhost:8080/"
        },
        "id": "7f1c528d",
        "outputId": "fb343157-4b15-4744-d918-59ceea4a7079"
      },
      "source": [
        "def sum_of_even_numbers(numbers):\n",
        "  \"\"\"\n",
        "  This function takes a list of numbers and returns the sum of all even numbers in the list.\n",
        "  \"\"\"\n",
        "  even_sum = 0\n",
        "  for number in numbers:\n",
        "    if number % 2 == 0:\n",
        "      even_sum += number\n",
        "  return even_sum\n",
        "\n",
        "my_numbers = [1, 2, 3, 4, 5, 6, 7, 8, 9, 10]\n",
        "sum_even = sum_of_even_numbers(my_numbers)\n",
        "print(f\"The list is: {my_numbers}\")\n",
        "print(f\"The sum of even numbers in the list is: {sum_even}\")"
      ],
      "execution_count": 20,
      "outputs": [
        {
          "output_type": "stream",
          "name": "stdout",
          "text": [
            "The list is: [1, 2, 3, 4, 5, 6, 7, 8, 9, 10]\n",
            "The sum of even numbers in the list is: 30\n"
          ]
        }
      ]
    },
    {
      "cell_type": "markdown",
      "metadata": {
        "id": "7b22c4c9"
      },
      "source": [
        "# Task\n",
        "Implement the following Python programming tasks:\n",
        "\n",
        " 1. A generator function that reads a file line by line and yields each line.\n",
        "\n",
        "  2. Use a lambda function to sort a list of tuples by the second element.\n",
        "  \n",
        "   3. Use `map()` to convert Celsius temperatures to Fahrenheit.\n",
        "   \n",
        "    4. Use `filter()` to remove vowels from a string."
      ]
    },
    {
      "cell_type": "markdown",
      "metadata": {
        "id": "065d01da"
      },
      "source": [
        "## Implement the generator function\n",
        "\n",
        "\n"
      ]
    },
    {
      "cell_type": "code",
      "metadata": {
        "id": "e024612e"
      },
      "source": [
        "def file_reader_generator(file_path):\n",
        "  \"\"\"\n",
        "  A generator function that reads a file line by line and yields each line.\n",
        "\n",
        "  Args:\n",
        "    file_path: The path to the file to read.\n",
        "  \"\"\"\n",
        "  with open(file_path, 'r') as f:\n",
        "    for line in f:\n",
        "      yield line"
      ],
      "execution_count": 21,
      "outputs": []
    },
    {
      "cell_type": "markdown",
      "metadata": {
        "id": "9f480952"
      },
      "source": [
        "## Implement the lambda\n"
      ]
    },
    {
      "cell_type": "code",
      "metadata": {
        "colab": {
          "base_uri": "https://localhost:8080/"
        },
        "id": "dbadfab6",
        "outputId": "85372714-e874-42a1-cad6-d038ec599e79"
      },
      "source": [
        "list_of_tuples = [('apple', 3), ('banana', 1), ('cherry', 2), ('date', 4)]\n",
        "print(f\"Original list of tuples: {list_of_tuples}\")\n",
        "\n",
        "sorted_list_of_tuples = sorted(list_of_tuples, key=lambda item: item[1])\n",
        "\n",
        "print(f\"Sorted list of tuples: {sorted_list_of_tuples}\")"
      ],
      "execution_count": 22,
      "outputs": [
        {
          "output_type": "stream",
          "name": "stdout",
          "text": [
            "Original list of tuples: [('apple', 3), ('banana', 1), ('cherry', 2), ('date', 4)]\n",
            "Sorted list of tuples: [('banana', 1), ('cherry', 2), ('apple', 3), ('date', 4)]\n"
          ]
        }
      ]
    },
    {
      "cell_type": "markdown",
      "metadata": {
        "id": "de65db99"
      },
      "source": [
        "## Implement the map function\n",
        "\n",
        "### Subtask:\n",
        "Write a Python program that uses `map()` to convert a list of temperatures from Celsius to Fahrenheit.\n"
      ]
    },
    {
      "cell_type": "markdown",
      "metadata": {
        "id": "26ed3497"
      },
      "source": [
        "**Reasoning**:\n",
        "The subtask requires converting a list of Celsius temperatures to Fahrenheit using `map()`. I will define the list of Celsius temperatures, create a function for the conversion, apply `map()`, convert the result to a list, and print both lists.\n",
        "\n"
      ]
    },
    {
      "cell_type": "code",
      "metadata": {
        "colab": {
          "base_uri": "https://localhost:8080/"
        },
        "id": "aac7f19a",
        "outputId": "82796f51-3ca5-46f0-f89d-d1d08c5e491a"
      },
      "source": [
        "celsius_temperatures = [0, 10, 20, 30, 40, 50]\n",
        "\n",
        "def celsius_to_fahrenheit(celsius):\n",
        "  \"\"\"Converts Celsius to Fahrenheit.\"\"\"\n",
        "  return (celsius * 9/5) + 32\n",
        "\n",
        "fahrenheit_map = map(celsius_to_fahrenheit, celsius_temperatures)\n",
        "\n",
        "fahrenheit_temperatures = list(fahrenheit_map)\n",
        "\n",
        "print(f\"Original Celsius temperatures: {celsius_temperatures}\")\n",
        "print(f\"Converted Fahrenheit temperatures: {fahrenheit_temperatures}\")"
      ],
      "execution_count": 23,
      "outputs": [
        {
          "output_type": "stream",
          "name": "stdout",
          "text": [
            "Original Celsius temperatures: [0, 10, 20, 30, 40, 50]\n",
            "Converted Fahrenheit temperatures: [32.0, 50.0, 68.0, 86.0, 104.0, 122.0]\n"
          ]
        }
      ]
    },
    {
      "cell_type": "markdown",
      "metadata": {
        "id": "847cfb58"
      },
      "source": [
        "## Implement the filter function\n",
        "\n",
        "### Subtask:\n",
        "Create a Python program that uses `filter()` to remove all the vowels from a given string.\n"
      ]
    },
    {
      "cell_type": "markdown",
      "metadata": {
        "id": "717aefc9"
      },
      "source": [
        "**Reasoning**:\n",
        "Define the original string, a function to check for vowels, use filter to remove vowels, and print the results.\n",
        "\n"
      ]
    },
    {
      "cell_type": "code",
      "metadata": {
        "colab": {
          "base_uri": "https://localhost:8080/"
        },
        "id": "82da7df7",
        "outputId": "44686f1d-a398-43e9-b4e8-6660e7b4ea9d"
      },
      "source": [
        "original_string = \"Programming is fun!\"\n",
        "\n",
        "def is_vowel(char):\n",
        "  \"\"\"Checks if a character is a vowel (case-insensitive).\"\"\"\n",
        "  return char.lower() in 'aeiou'\n",
        "\n",
        "filtered_chars = filter(lambda char: not is_vowel(char), original_string)\n",
        "\n",
        "string_without_vowels = \"\".join(filtered_chars)\n",
        "\n",
        "print(f\"Original string: {original_string}\")\n",
        "print(f\"String without vowels: {string_without_vowels}\")"
      ],
      "execution_count": 24,
      "outputs": [
        {
          "output_type": "stream",
          "name": "stdout",
          "text": [
            "Original string: Programming is fun!\n",
            "String without vowels: Prgrmmng s fn!\n"
          ]
        }
      ]
    },
    {
      "cell_type": "code",
      "source": [
        "''' Q11. Imagine an accounting routine used in a book\n",
        " shop. It works on a list with sublists, which look like this:\n",
        " Order Number\n",
        " Book Title and Author\n",
        " Quantity Price per Item\n",
        " 34587\n",
        " 98762\n",
        " 77226\n",
        " 88112\n",
        " Learning Python, Mark Lutz\n",
        " Programming Python, Mark Lutz\n",
        " Head First Python, Paul Barry\n",
        " 4\n",
        " 5\n",
        " 3\n",
        " Einführung in Python3, Bernd Klein 3\n",
        " 40.95\n",
        " 56.80\n",
        " 32.95\n",
        " 24.99\n",
        " Write a Python program, which returns a list with 2-tuples. Each tuple\n",
        " consists of the order number and the product of the price per item and the\n",
        " quantity. The product should be increased by 10,- € if the value of the order is\n",
        " smaller than 100,00 €.\n",
        " Write a Python program using lambda and map.'''\n",
        " # Accounting routine with lambda and map\n",
        "orders = [\n",
        " [34587, \"Learning Python, Mark Lutz\", 4, 40.95],\n",
        " [98762, \"Programming Python, Mark Lutz\", 5, 56.80],\n",
        " [77226, \"Head First Python, Paul Barry\", 3, 32.95],\n",
        " [88112, \"Einführung in Python3, Bernd Klein\", 3, 24.99]\n",
        " ]\n",
        " # Using lambda + map\n",
        "result = list(map(lambda order: (order[0], order[2] * order[3] + (10 if order[2] * order[3] < 100 else 0)), orders))\n",
        "\n",
        "print(result)"
      ],
      "metadata": {
        "colab": {
          "base_uri": "https://localhost:8080/"
        },
        "id": "1_vGn4cTSZjf",
        "outputId": "6f6d03d4-94f9-4db6-9519-f4002766a71c"
      },
      "execution_count": 29,
      "outputs": [
        {
          "output_type": "stream",
          "name": "stdout",
          "text": [
            "[(34587, 163.8), (98762, 284.0), (77226, 108.85000000000001), (88112, 84.97)]\n"
          ]
        }
      ]
    }
  ]
}