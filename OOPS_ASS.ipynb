{
  "nbformat": 4,
  "nbformat_minor": 0,
  "metadata": {
    "colab": {
      "provenance": []
    },
    "kernelspec": {
      "name": "python3",
      "display_name": "Python 3"
    },
    "language_info": {
      "name": "python"
    }
  },
  "cells": [
    {
      "cell_type": "markdown",
      "metadata": {
        "id": "2934087c"
      },
      "source": [
        "1.  **What is Object-Oriented Programming (OOP)?**\n",
        "\n",
        "    Object-Oriented Programming (OOP) is a programming paradigm based on the concept of \"objects,\" which can contain data (attributes) and code (methods). The main goal of OOP is to organize code into reusable and modular components, making programs easier to design, understand, and maintain. Key principles of OOP include encapsulation, inheritance, and polymorphism.\n",
        "\n",
        "---\n",
        "\n",
        "2.  **What is a class in OOP?**\n",
        "\n",
        "    A class is a blueprint or a template for creating objects. It defines the attributes (data) and methods (functions) that objects of that class will have. Think of it like a cookie cutter; the class is the cutter, and the cookies you make from it are the objects.\n",
        "\n",
        "---\n",
        "\n",
        "3.  **What is an object in OOP?**\n",
        "\n",
        "    An object is an instance of a class. It's a concrete entity created from the class blueprint. Each object has its own unique set of data (attribute values) but shares the methods defined in its class. Using the cookie cutter analogy, an object is an actual cookie made from the cutter.\n",
        "\n",
        "---\n",
        "\n",
        "4.  **What is the difference between abstraction and encapsulation?**\n",
        "\n",
        "    *   **Abstraction:** Abstraction is the process of hiding complex implementation details and showing only the essential features of an object. It focuses on what an object *does* rather than how it *does* it.\n",
        "    *   **Encapsulation:** Encapsulation is the bundling of data (attributes) and the methods that operate on that data within a single unit (a class). It also involves controlling access to the data, often by making attributes \"private\" and providing public methods to interact with them.\n",
        "\n",
        "    While related, abstraction is about simplifying the view of an object, and encapsulation is about packaging data and methods together and controlling access.\n",
        "\n",
        "---\n",
        "\n",
        "5.  **What are dunder methods in Python?**\n",
        "\n",
        "    Dunder methods, also known as magic methods, are special methods in Python that have double underscores at the beginning and end of their names (e.g., `__init__`, `__str__`, `__add__`). These methods are not typically called directly by the programmer but are invoked by Python in response to certain events or operations (like creating an object, using an operator, or representing an object as a string). They allow you to define how objects of your class behave in different situations.\n",
        "\n",
        "---\n",
        "\n",
        "6.  **Explain the concept of inheritance in OOP?**\n",
        "\n",
        "    Inheritance is a mechanism in OOP that allows a new class (called the *subclass* or *derived class*) to inherit attributes and methods from an existing class (called the *superclass* or *base class*). This promotes code reusability and establishes a hierarchical relationship between classes. The subclass can also add its own attributes and methods or override the inherited ones.\n",
        "\n",
        "---\n",
        "\n",
        "7.  **What is polymorphism in OOP?**\n",
        "\n",
        "    Polymorphism means \"many forms.\" In OOP, it refers to the ability of objects of different classes to respond to the same method call in their own way. This allows you to write code that can work with objects of various types in a uniform manner. Python achieves polymorphism through duck typing (\"If it walks like a duck and quacks like a duck, it's a duck\") and method overriding.\n",
        "\n",
        "---\n",
        "\n",
        "8.  **How is encapsulation achieved in Python?**\n",
        "\n",
        "    Encapsulation in Python is primarily achieved by:\n",
        "    *   Bundling data and methods within a class.\n",
        "    *   Using naming conventions: While Python doesn't have strict access modifiers like `public`, `private`, or `protected`, a single leading underscore (`_`) is a convention to indicate that an attribute or method is intended for internal use (protected), and a double leading underscore (`__`) is used for name mangling, which makes it harder to access directly from outside the class (intended to mimic private). However, these are conventions, not strict enforcement.\n",
        "\n",
        "---\n",
        "\n",
        "9.  **What is a constructor in Python?**\n",
        "\n",
        "    In Python, the constructor is a special method named `__init__`. It is automatically called when you create a new object (an instance) of a class. Its primary purpose is to initialize the object's attributes with initial values.\n",
        "\n",
        "---\n",
        "\n",
        "10. **What are class and static methods in Python?**\n",
        "\n",
        "    *   **Class Methods (`@classmethod`):** These methods are bound to the class and receive the class itself as the first argument (conventionally named `cls`). They are often used to create factory methods (alternative ways to create instances of the class) or to access or modify class-level state.\n",
        "    *   **Static Methods (`@staticmethod`):** These methods are not bound to either the class or the instance. They don't receive `self` or `cls` as the first argument. They are essentially regular functions that happen to be defined within a class, often because they have some logical connection to the class but don't need access to instance or class-specific data.\n",
        "\n",
        "---\n",
        "\n",
        "11. **What is method overloading in Python?**\n",
        "\n",
        "    Method overloading, in languages like Java or C++, allows you to define multiple methods in the same class with the same name but different parameters (number or type). Python does *not* support method overloading in the same way. If you define multiple methods with the same name, the last one defined will overwrite the previous ones. To achieve similar functionality, you can use default arguments, variable-length arguments (`*args`, `**kwargs`), or check the types of arguments within a single method.\n",
        "\n",
        "---\n",
        "\n",
        "12. **What is method overriding in OOP?**\n",
        "\n",
        "    Method overriding is a feature in inheritance where a subclass provides its own implementation of a method that is already defined in its superclass. This allows the subclass to specialize or modify the behavior inherited from the superclass while keeping the same method signature (name and parameters).\n",
        "\n",
        "---\n",
        "\n",
        "13. **What is a property decorator in Python?**\n",
        "\n",
        "    The `@property` decorator is a built-in Python decorator that provides a way to access class methods as if they were attributes. It allows you to define \"getter,\" \"setter,\" and \"deleter\" methods for an attribute, giving you control over how the attribute is accessed, modified, and deleted. This is a way to implement controlled access to attributes, enhancing encapsulation.\n",
        "\n",
        "---\n",
        "\n",
        "14. **Why is polymorphism important in OOP?**\n",
        "\n",
        "    Polymorphism is important because it promotes code flexibility, extensibility, and reusability. It allows you to write code that can work with objects of different types without needing to know their specific class beforehand. This makes your code more adaptable to changes and easier to maintain.\n",
        "\n",
        "---\n",
        "\n",
        "15. **What is an abstract class in Python?**\n",
        "\n",
        "    An abstract class is a class that cannot be instantiated directly. It is designed to be a blueprint for other classes. Abstract classes can contain abstract methods (methods declared but not implemented in the abstract class). Subclasses are required to provide implementations for these abstract methods. Python's `abc` (Abstract Base Classes) module provides the tools to create abstract classes and methods using the `@abstractmethod` decorator.\n",
        "\n",
        "---\n",
        "\n",
        "16. **What are the advantages of OOP?**\n",
        "\n",
        "    Some advantages of OOP include:\n",
        "    *   **Modularity:** Code is organized into self-contained objects.\n",
        "    *   **Reusability:** Inheritance allows reusing code from existing classes.\n",
        "    *   **Maintainability:** Code is easier to understand and modify due to its structured nature.\n",
        "    *   **Extensibility:** New features can be added by creating new classes or extending existing ones.\n",
        "    *   **Flexibility:** Polymorphism allows for more flexible and adaptable code.\n",
        "\n",
        "---\n",
        "\n",
        "17. **What is multiple inheritance in Python?**\n",
        "\n",
        "    Multiple inheritance is a feature in Python where a class can inherit from more than one parent class. This allows a subclass to combine the attributes and methods of multiple superclasses. While powerful, it can sometimes lead to complexities like the \"diamond problem\" (where a class inherits from two classes that have a common ancestor), which Python handles using the Method Resolution Order (MRO).\n",
        "\n",
        "---\n",
        "\n",
        "18. **What is the difference between a class variable and an instance variable?**\n",
        "\n",
        "    *   **Class Variables:** These are variables defined within a class but outside of any methods. They are shared by all instances (objects) of the class. They are accessed using the class name or an instance of the class.\n",
        "    *   **Instance Variables:** These are variables defined within the methods of a class, typically in the `__init__` constructor, using `self.variable_name`. Each instance of the class has its own copy of instance variables, and their values can be different for each object.\n",
        "\n",
        "---\n",
        "\n",
        "19. **Explain the purpose of `__str__` and `__repr__` methods in Python?**\n",
        "    *   **`__str__`:**\n",
        "     This method is used to provide a human-readable string representation of an object. It's typically called by the `str()` function and the `print()` function. The goal is to provide a user-friendly output.\n",
        "    *   **`__repr__`:** This method is used to provide an unambiguous string representation of an object, primarily for developers. It should be a string that, if passed to the `eval()` function (though this is generally not recommended for security reasons), would recreate the object. It's typically called by the `repr()` function and when an object is displayed in the interactive interpreter.\n",
        "\n",
        "    If `__str__` is not defined, Python will use `__repr__` as the fallback for `str()`.\n",
        "\n",
        "---\n",
        "\n",
        "20. **What is the significance of the `super()` function in Python?**\n",
        "\n",
        "    The `super()` function is used in a subclass to call a method from its immediate parent class (or any ancestor class in the Method Resolution Order). It's commonly used in the `__init__` method of a subclass to call the parent class's constructor and initialize the inherited attributes. It's also used to access overridden methods in the parent class.\n",
        "\n",
        "---\n",
        "\n",
        "21. **What is the significance of the `__del__` method in Python?**\n",
        "    The `__del__` method, also known as the destructor, is called when an object is about to be garbage collected (when there are no more references to it). It's primarily used for cleanup operations, such as closing file handles or releasing external resources. However, relying on `__del__` for critical cleanup is generally discouraged because the timing of garbage collection is not guaranteed.\n",
        "\n",
        "---\n",
        "\n",
        "22. **What is the difference between `@staticmethod` and `@classmethod` in Python?**\n",
        "\n",
        "    *   `@staticmethod`: Doesn't receive the instance (`self`) or the class (`cls`) as the first argument. It behaves like a regular function within the class namespace.\n",
        "    *   `@classmethod`: Receives the class (`cls`) as the first argument. It's often used for factory methods or to interact with class-level attributes.\n",
        "\n",
        "    The key difference lies in whether the method needs access to the instance or the class itself.\n",
        "\n",
        "---\n",
        "\n",
        "23. **How does polymorphism work in Python with inheritance?**\n",
        "\n",
        "    With inheritance, polymorphism in Python allows a variable or function to refer to objects of different classes that are related through inheritance. If a superclass defines a method, and a subclass overrides that method, you can call that method on an object without knowing its exact class type, and the appropriate version of the method (from the subclass or superclass) will be executed based on the object's actual type. This is a form of dynamic dispatch.\n",
        "\n",
        "---\n",
        "\n",
        "24. **What is method chaining in Python OOP?**\n",
        "\n",
        "    Method chaining is a technique where you call multiple methods on an object in a single statement. This is possible when a method returns the object itself (`return self`) after performing its operation. This allows you to chain method calls together, making the code more concise and readable, especially when performing a series of operations on an object.\n",
        "\n",
        "---\n",
        "\n",
        "25. **What is the purpose of the `__call__` method in Python?**\n",
        "\n",
        "    The `__call__` method is a dunder method that allows an instance of a class to be called like a function. If a class implements the `__call__` method, you can create an object of that class and then call the object directly using parentheses, passing arguments just as you would to a regular function. This can be useful for creating objects that behave like functions or for implementing decorators."
      ]
    },
    {
      "cell_type": "markdown",
      "source": [
        "#                                                                                                                                                                                                                      PRACTICAL QUESTIONS"
      ],
      "metadata": {
        "id": "d2LOofJaiXZr"
      }
    },
    {
      "cell_type": "markdown",
      "metadata": {
        "id": "caf9795e"
      },
      "source": [
        "\n",
        "Create a parent class `Animal` and a child class `Dog` demonstrating method overriding.\n"
      ]
    },
    {
      "cell_type": "code",
      "metadata": {
        "colab": {
          "base_uri": "https://localhost:8080/"
        },
        "id": "ad18ba9d",
        "outputId": "028014c3-589d-4ffd-ba9c-e618ec527832"
      },
      "source": [
        "class Animal:\n",
        "  \"\"\"A generic animal class.\"\"\"\n",
        "\n",
        "  def speak(self):\n",
        "    \"\"\"Prints a generic animal sound.\"\"\"\n",
        "    print(\"Animal speaks\")\n",
        "\n",
        "class Dog(Animal):\n",
        "  \"\"\"A Dog class inheriting from Animal.\"\"\"\n",
        "\n",
        "  def speak(self):\n",
        "    \"\"\"Overrides the speak method to print a dog sound.\"\"\"\n",
        "    print(\"Woof!\")\n",
        "\n",
        "# Create an instance of the Dog class and call the speak method\n",
        "my_dog = Dog()\n",
        "my_dog.speak()"
      ],
      "execution_count": 1,
      "outputs": [
        {
          "output_type": "stream",
          "name": "stdout",
          "text": [
            "Woof!\n"
          ]
        }
      ]
    },
    {
      "cell_type": "markdown",
      "metadata": {
        "id": "d8e5502b"
      },
      "source": [
        "\n",
        "Create an abstract class `Shape` with an abstract method `area`, and concrete classes `Circle` and `Rectangle` implementing `area`.\n"
      ]
    },
    {
      "cell_type": "code",
      "metadata": {
        "colab": {
          "base_uri": "https://localhost:8080/"
        },
        "id": "2a72aca5",
        "outputId": "0499ea2f-dddf-4792-d28c-52a5f2b1903b"
      },
      "source": [
        "import math\n",
        "from abc import ABC, abstractmethod\n",
        "\n",
        "class Shape(ABC):\n",
        "    \"\"\"Abstract base class for shapes.\"\"\"\n",
        "\n",
        "    @abstractmethod\n",
        "    def area(self):\n",
        "        \"\"\"Abstract method to calculate the area of the shape.\"\"\"\n",
        "        pass\n",
        "\n",
        "class Circle(Shape):\n",
        "    \"\"\"Concrete class representing a circle.\"\"\"\n",
        "\n",
        "    def __init__(self, radius):\n",
        "        \"\"\"Initializes a Circle object with a given radius.\"\"\"\n",
        "        self.radius = radius\n",
        "\n",
        "    def area(self):\n",
        "        \"\"\"Calculates the area of the circle.\"\"\"\n",
        "        return math.pi * self.radius**2\n",
        "\n",
        "class Rectangle(Shape):\n",
        "    \"\"\"Concrete class representing a rectangle.\"\"\"\n",
        "\n",
        "    def __init__(self, width, height):\n",
        "        \"\"\"Initializes a Rectangle object with given width and height.\"\"\"\n",
        "        self.width = width\n",
        "        self.height = height\n",
        "\n",
        "    def area(self):\n",
        "        \"\"\"Calculates the area of the rectangle.\"\"\"\n",
        "        return self.width * self.height\n",
        "\n",
        "\n",
        "my_circle = Circle(5)\n",
        "my_rectangle = Rectangle(4, 6)\n",
        "\n",
        "\n",
        "print(f\"Area of the circle: {my_circle.area()}\")\n",
        "print(f\"Area of the rectangle: {my_rectangle.area()}\")"
      ],
      "execution_count": 27,
      "outputs": [
        {
          "output_type": "stream",
          "name": "stdout",
          "text": [
            "Area of the circle: 78.53981633974483\n",
            "Area of the rectangle: 24\n"
          ]
        }
      ]
    },
    {
      "cell_type": "markdown",
      "metadata": {
        "id": "098cb9c3"
      },
      "source": [
        "\n",
        "Create `Vehicle`, `Car`, and `ElectricCar` classes to show multi-level inheritance.\n"
      ]
    },
    {
      "cell_type": "code",
      "metadata": {
        "colab": {
          "base_uri": "https://localhost:8080/"
        },
        "id": "e8cb2987",
        "outputId": "5e6b8a3a-91ec-4eff-b859-ec1b475d90d0"
      },
      "source": [
        "class Vehicle:\n",
        "    def __init__(self, brand):\n",
        "        self.brand = brand\n",
        "\n",
        "    def display_vehicle_info(self):\n",
        "        print(f\"Brand: {self.brand}\")\n",
        "\n",
        "class Car(Vehicle):\n",
        "    def __init__(self, brand, model):\n",
        "        super().__init__(brand)\n",
        "        self.model = model\n",
        "\n",
        "    def display_vehicle_info(self):\n",
        "        super().display_vehicle_info()\n",
        "        print(f\"Model: {self.model}\")\n",
        "\n",
        "class ElectricCar(Car):\n",
        "    def __init__(self, brand, model, battery_size):\n",
        "        super().__init__(brand, model)\n",
        "        self.battery_size = battery_size\n",
        "\n",
        "    def display_vehicle_info(self):\n",
        "        super().display_vehicle_info()\n",
        "        print(f\"Battery Size: {self.battery_size} kWh\")\n",
        "\n",
        "\n",
        "my_electric_car = ElectricCar(\"Tesla\", \"Model 3\", 75)\n",
        "\n",
        "\n",
        "my_electric_car.display_vehicle_info()"
      ],
      "execution_count": 28,
      "outputs": [
        {
          "output_type": "stream",
          "name": "stdout",
          "text": [
            "Brand: Tesla\n",
            "Model: Model 3\n",
            "Battery Size: 75 kWh\n"
          ]
        }
      ]
    },
    {
      "cell_type": "markdown",
      "metadata": {
        "id": "010aab53"
      },
      "source": [
        "\n",
        "Create a base class `Bird` and derived classes `Sparrow` and `Penguin` with overridden `fly` methods.\n"
      ]
    },
    {
      "cell_type": "code",
      "metadata": {
        "colab": {
          "base_uri": "https://localhost:8080/"
        },
        "id": "f81c3516",
        "outputId": "02f5ef19-dcb5-4db6-d3e2-6b4177e576a7"
      },
      "source": [
        "class Bird:\n",
        "    def fly(self):\n",
        "        print(\"Birds typically fly.\")\n",
        "\n",
        "class Sparrow(Bird):\n",
        "    def fly(self):\n",
        "        print(\"Sparrows flutter and fly short distances.\")\n",
        "\n",
        "class Penguin(Bird):\n",
        "    def fly(self):\n",
        "        print(\"Penguins cannot fly, but they are excellent swimmers.\")\n",
        "\n",
        "\n",
        "sparrow = Sparrow()\n",
        "penguin = Penguin()\n",
        "\n",
        "\n",
        "print(\"--- Demonstrating Polymorphism with Bird subclasses ---\")\n",
        "sparrow.fly()\n",
        "penguin.fly()\n",
        "print(\"---------------------------------------------------\")"
      ],
      "execution_count": 29,
      "outputs": [
        {
          "output_type": "stream",
          "name": "stdout",
          "text": [
            "--- Demonstrating Polymorphism with Bird subclasses ---\n",
            "Sparrows flutter and fly short distances.\n",
            "Penguins cannot fly, but they are excellent swimmers.\n",
            "---------------------------------------------------\n"
          ]
        }
      ]
    },
    {
      "cell_type": "markdown",
      "metadata": {
        "id": "c69b936f"
      },
      "source": [
        "\n",
        "Create a `BankAccount` class with private attributes and public methods for deposit, withdrawal, and balance check.\n"
      ]
    },
    {
      "cell_type": "code",
      "metadata": {
        "colab": {
          "base_uri": "https://localhost:8080/"
        },
        "id": "30ec7d43",
        "outputId": "69918fb1-cd46-439c-8026-72e6a7dc48a2"
      },
      "source": [
        "class BankAccount:\n",
        "    def __init__(self, initial_balance=0):\n",
        "        if initial_balance < 0:\n",
        "            raise ValueError(\"Initial balance cannot be negative.\")\n",
        "        self.__balance = initial_balance\n",
        "\n",
        "    def deposit(self, amount):\n",
        "        if amount <= 0:\n",
        "            print(\"Deposit amount must be positive.\")\n",
        "            return\n",
        "        self.__balance += amount\n",
        "        print(f\"Deposited: ${amount}. New balance: ${self.__balance}\")\n",
        "\n",
        "    def withdraw(self, amount):\n",
        "        if amount <= 0:\n",
        "            print(\"Withdrawal amount must be positive.\")\n",
        "            return\n",
        "        if amount > self.__balance:\n",
        "            print(\"Insufficient funds.\")\n",
        "            return\n",
        "        self.__balance -= amount\n",
        "        print(f\"Withdrew: ${amount}. New balance: ${self.__balance}\")\n",
        "\n",
        "    def get_balance(self):\n",
        "        return self.__balance\n",
        "\n",
        "\n",
        "print(\"--- Demonstrating BankAccount ---\")\n",
        "account = BankAccount(100)\n",
        "account.deposit(50)\n",
        "account.withdraw(30)\n",
        "print(f\"Current balance: ${account.get_balance()}\")\n",
        "\n",
        "account.deposit(-20)\n",
        "account.withdraw(200)\n",
        "print(f\"Final balance: ${account.get_balance()}\")\n",
        "print(\"-------------------------------\")"
      ],
      "execution_count": 30,
      "outputs": [
        {
          "output_type": "stream",
          "name": "stdout",
          "text": [
            "--- Demonstrating BankAccount ---\n",
            "Deposited: $50. New balance: $150\n",
            "Withdrew: $30. New balance: $120\n",
            "Current balance: $120\n",
            "Deposit amount must be positive.\n",
            "Insufficient funds.\n",
            "Final balance: $120\n",
            "-------------------------------\n"
          ]
        }
      ]
    },
    {
      "cell_type": "markdown",
      "metadata": {
        "id": "3b84b464"
      },
      "source": [
        "\n",
        "Create an `Instrument` base class and `Guitar` and `Piano` derived classes with a `play` method.\n"
      ]
    },
    {
      "cell_type": "code",
      "metadata": {
        "colab": {
          "base_uri": "https://localhost:8080/"
        },
        "id": "22bba439",
        "outputId": "9289fdf4-286b-49ab-f4e8-4cc55129c2c0"
      },
      "source": [
        "print(\"--- Demonstrating Runtime Polymorphism with Instruments ---\")\n",
        "\n",
        "class Instrument:\n",
        "    def play(self):\n",
        "        print(\"An instrument is being played.\")\n",
        "\n",
        "class Guitar(Instrument):\n",
        "    def play(self):\n",
        "        print(\"Playing a guitar solo!\")\n",
        "\n",
        "class Piano(Instrument):\n",
        "    def play(self):\n",
        "        print(\"Playing a piano melody.\")\n",
        "\n",
        "\n",
        "my_guitar = Guitar()\n",
        "my_piano = Piano()\n",
        "\n",
        "\n",
        "my_guitar.play()\n",
        "my_piano.play()\n",
        "\n",
        "print(\"---------------------------------------------------------\")"
      ],
      "execution_count": 31,
      "outputs": [
        {
          "output_type": "stream",
          "name": "stdout",
          "text": [
            "--- Demonstrating Runtime Polymorphism with Instruments ---\n",
            "Playing a guitar solo!\n",
            "Playing a piano melody.\n",
            "---------------------------------------------------------\n"
          ]
        }
      ]
    },
    {
      "cell_type": "markdown",
      "metadata": {
        "id": "26b83ffc"
      },
      "source": [
        "\n",
        "Create a `MathOperations` class with a class method and a static method.\n"
      ]
    },
    {
      "cell_type": "markdown",
      "metadata": {
        "id": "cc004e78"
      },
      "source": [
        "**Reasoning**:\n",
        "The subtask requires creating a class with a class method and a static method. I will define the `MathOperations` class and include the `multiply_by_factor` class method and the `add_numbers` static method as instructed, along with comments and demonstration code.\n",
        "\n"
      ]
    },
    {
      "cell_type": "code",
      "metadata": {
        "colab": {
          "base_uri": "https://localhost:8080/"
        },
        "id": "470f5418",
        "outputId": "af8971f7-cb33-4806-a74f-1c2bbf6aed78"
      },
      "source": [
        "class MathOperations:\n",
        "    \"\"\"A class to demonstrate class and static methods.\"\"\"\n",
        "\n",
        "\n",
        "    default_factor = 2\n",
        "\n",
        "    @classmethod\n",
        "    def multiply_by_factor(cls, value):\n",
        "\n",
        "\n",
        "        print(f\"Using class method multiply_by_factor with factor: {cls.default_factor}\")\n",
        "        return value * cls.default_factor\n",
        "\n",
        "    @staticmethod\n",
        "    def add_numbers(x, y):\n",
        "\n",
        "\n",
        "        print(\"Using static method add_numbers\")\n",
        "        return x + y\n",
        "\n",
        "\n",
        "sum_result = MathOperations.add_numbers(5, 3)\n",
        "print(f\"Sum using static method: {sum_result}\")\n",
        "\n",
        "\n",
        "multiplied_result_class = MathOperations.multiply_by_factor(10)\n",
        "print(f\"Result using class method called on class: {multiplied_result_class}\")\n",
        "\n",
        "\n",
        "math_obj = MathOperations()\n",
        "multiplied_result_instance = math_obj.multiply_by_factor(20)\n",
        "print(f\"Result using class method called on instance: {multiplied_result_instance}\")\n",
        "\n",
        "\n",
        "sum_result_instance = math_obj.add_numbers(15, 7)\n",
        "print(f\"Sum using static method called on instance: {sum_result_instance}\")\n",
        "\n",
        "\n",
        "print(\"\\nChanging class variable...\")\n",
        "MathOperations.default_factor = 5\n",
        "multiplied_result_after_change = MathOperations.multiply_by_factor(10)\n",
        "print(f\"Result using class method after changing factor: {multiplied_result_after_change}\")"
      ],
      "execution_count": 32,
      "outputs": [
        {
          "output_type": "stream",
          "name": "stdout",
          "text": [
            "Using static method add_numbers\n",
            "Sum using static method: 8\n",
            "Using class method multiply_by_factor with factor: 2\n",
            "Result using class method called on class: 20\n",
            "Using class method multiply_by_factor with factor: 2\n",
            "Result using class method called on instance: 40\n",
            "Using static method add_numbers\n",
            "Sum using static method called on instance: 22\n",
            "\n",
            "Changing class variable...\n",
            "Using class method multiply_by_factor with factor: 5\n",
            "Result using class method after changing factor: 50\n"
          ]
        }
      ]
    },
    {
      "cell_type": "markdown",
      "metadata": {
        "id": "03bc7880"
      },
      "source": [
        "\n",
        "Create a `Person` class with a class method to count instances.\n"
      ]
    },
    {
      "cell_type": "code",
      "metadata": {
        "colab": {
          "base_uri": "https://localhost:8080/"
        },
        "id": "542824fc",
        "outputId": "fe54f437-2528-4adb-f026-cf4bb48e2710"
      },
      "source": [
        "class Person:\n",
        "\n",
        "\n",
        "    instance_count = 0\n",
        "\n",
        "\n",
        "    def __init__(self, name):\n",
        "        self.name = name\n",
        "\n",
        "        Person.instance_count += 1\n",
        "        print(f\"Created a new Person: {self.name}\")\n",
        "\n",
        "\n",
        "    @classmethod\n",
        "    def get_instance_count(cls):\n",
        "\n",
        "\n",
        "        print(\"Getting instance count using class method...\")\n",
        "        return cls.instance_count\n",
        "\n",
        "\n",
        "print(\"--- Creating Person instances ---\")\n",
        "person1 = Person(\"Alice\")\n",
        "person2 = Person(\"Bob\")\n",
        "person3 = Person(\"Charlie\")\n",
        "print(\"-------------------------------\")\n",
        "\n",
        "\n",
        "print(f\"Total number of Person instances created: {Person.get_instance_count()}\")"
      ],
      "execution_count": 33,
      "outputs": [
        {
          "output_type": "stream",
          "name": "stdout",
          "text": [
            "--- Creating Person instances ---\n",
            "Created a new Person: Alice\n",
            "Created a new Person: Bob\n",
            "Created a new Person: Charlie\n",
            "-------------------------------\n",
            "Getting instance count using class method...\n",
            "Total number of Person instances created: 3\n"
          ]
        }
      ]
    },
    {
      "cell_type": "markdown",
      "metadata": {
        "id": "c4d24101"
      },
      "source": [
        "\n",
        "Create a `Fraction` class and override the `__str__` method.\n"
      ]
    },
    {
      "cell_type": "code",
      "metadata": {
        "colab": {
          "base_uri": "https://localhost:8080/"
        },
        "id": "ce643e78",
        "outputId": "7f09134a-4633-421a-fe85-f8e7787f75c5"
      },
      "source": [
        "class Fraction:\n",
        "    \"\"\"Represents a fraction with a numerator and a denominator.\"\"\"\n",
        "\n",
        "    def __init__(self, numerator, denominator):\n",
        "\n",
        "\n",
        "        if denominator == 0:\n",
        "            raise ValueError(\"Denominator cannot be zero.\")\n",
        "        self.numerator = numerator\n",
        "        self.denominator = denominator\n",
        "\n",
        "    def __str__(self):\n",
        "\n",
        "\n",
        "        return f\"{self.numerator}/{self.denominator}\"\n",
        "\n",
        "\n",
        "my_fraction = Fraction(3, 4)\n",
        "\n",
        "\n",
        "print(\"--- Demonstrating the Fraction class with __str__ override ---\")\n",
        "print(my_fraction)\n",
        "\n",
        "\n",
        "another_fraction = Fraction(7, 2)\n",
        "print(another_fraction)\n",
        "\n",
        "\n",
        "try:\n",
        "    invalid_fraction = Fraction(1, 0)\n",
        "except ValueError as e:\n",
        "    print(f\"Caught expected error: {e}\")\n",
        "\n",
        "print(\"-------------------------------------------------------------\")"
      ],
      "execution_count": 34,
      "outputs": [
        {
          "output_type": "stream",
          "name": "stdout",
          "text": [
            "--- Demonstrating the Fraction class with __str__ override ---\n",
            "3/4\n",
            "7/2\n",
            "Caught expected error: Denominator cannot be zero.\n",
            "-------------------------------------------------------------\n"
          ]
        }
      ]
    },
    {
      "cell_type": "markdown",
      "metadata": {
        "id": "c69c986b"
      },
      "source": [
        "\n",
        "Create a `Vector` class and override the `__add__` method.\n"
      ]
    },
    {
      "cell_type": "code",
      "metadata": {
        "colab": {
          "base_uri": "https://localhost:8080/"
        },
        "id": "4e6d4141",
        "outputId": "0d1e7956-3f80-4c3f-baa5-327edf63ea9a"
      },
      "source": [
        "class Vector:\n",
        "    \"\"\"Represents a 2D vector with x and y components.\"\"\"\n",
        "\n",
        "    def __init__(self, x, y):\n",
        "        self.x = x\n",
        "        self.y = y\n",
        "\n",
        "    def __add__(self, other):\n",
        "\n",
        "\n",
        "        if not isinstance(other, Vector):\n",
        "            raise TypeError(\"Operand must be a Vector\")\n",
        "        return Vector(self.x + other.x, self.y + other.y)\n",
        "\n",
        "    def __str__(self):\n",
        "        return f\"Vector({self.x}, {self.y})\"\n",
        "\n",
        "\n",
        "print(\"--- Demonstrating Vector class and __add__ override ---\")\n",
        "\n",
        "\n",
        "vector1 = Vector(2, 3)\n",
        "vector2 = Vector(5, 7)\n",
        "\n",
        "\n",
        "sum_vector = vector1 + vector2\n",
        "\n",
        "\n",
        "print(f\"Vector 1: {vector1}\")\n",
        "print(f\"Vector 2: {vector2}\")\n",
        "print(f\"Sum Vector: {sum_vector}\")\n",
        "\n",
        "\n",
        "try:\n",
        "    invalid_add = vector1 + 10\n",
        "except TypeError as e:\n",
        "    print(f\"Caught expected error: {e}\")\n",
        "\n",
        "print(\"----------------------------------------------------\")"
      ],
      "execution_count": 35,
      "outputs": [
        {
          "output_type": "stream",
          "name": "stdout",
          "text": [
            "--- Demonstrating Vector class and __add__ override ---\n",
            "Vector 1: Vector(2, 3)\n",
            "Vector 2: Vector(5, 7)\n",
            "Sum Vector: Vector(7, 10)\n",
            "Caught expected error: Operand must be a Vector\n",
            "----------------------------------------------------\n"
          ]
        }
      ]
    },
    {
      "cell_type": "markdown",
      "metadata": {
        "id": "8c6fb544"
      },
      "source": [
        "\n",
        "Create a `Person` class with attributes and a `greet` method.\n"
      ]
    },
    {
      "cell_type": "code",
      "metadata": {
        "colab": {
          "base_uri": "https://localhost:8080/"
        },
        "id": "7a15e187",
        "outputId": "36e4628b-2935-45a5-cf50-adceb77efe7b"
      },
      "source": [
        "class Person:\n",
        "\n",
        "\n",
        "    def __init__(self, name, age):\n",
        "        self.name = name\n",
        "        self.age = age\n",
        "        print(f\"A new Person object created: {self.name}, {self.age} years old.\")\n",
        "\n",
        "\n",
        "    def greet(self):\n",
        "        print(f\"Hello, my name is {self.name}!\")\n",
        "\n",
        "\n",
        "print(\"--- Creating a Person instance ---\")\n",
        "person1 = Person(\"Alice\", 30)\n",
        "print(\"----------------------------------\")\n",
        "\n",
        "\n",
        "print(\"--- Calling the greet method ---\")\n",
        "person1.greet()\n",
        "print(\"--------------------------------\")"
      ],
      "execution_count": 36,
      "outputs": [
        {
          "output_type": "stream",
          "name": "stdout",
          "text": [
            "--- Creating a Person instance ---\n",
            "A new Person object created: Alice, 30 years old.\n",
            "----------------------------------\n",
            "--- Calling the greet method ---\n",
            "Hello, my name is Alice!\n",
            "--------------------------------\n"
          ]
        }
      ]
    },
    {
      "cell_type": "markdown",
      "metadata": {
        "id": "efa15267"
      },
      "source": [
        "\n",
        "Create a `Student` class with attributes and an `average_grade` method.\n"
      ]
    },
    {
      "cell_type": "code",
      "metadata": {
        "colab": {
          "base_uri": "https://localhost:8080/"
        },
        "id": "10bdae36",
        "outputId": "7a5e2ba4-808a-49bd-b4bf-a2a817af5101"
      },
      "source": [
        "class Student:\n",
        "\n",
        "\n",
        "    def __init__(self, name, grades):\n",
        "\n",
        "\n",
        "        self.name = name\n",
        "        self.grades = grades\n",
        "        print(f\"Student object created: {self.name}\")\n",
        "\n",
        "\n",
        "    def average_grade(self):\n",
        "\n",
        "\n",
        "        if not self.grades:\n",
        "            print(\"No grades available to calculate average.\")\n",
        "            return 0\n",
        "        return sum(self.grades) / len(self.grades)\n",
        "\n",
        "\n",
        "print(\"--- Demonstrating Student class ---\")\n",
        "student1 = Student(\"Alice\", [85, 90, 78, 92])\n",
        "\n",
        "\n",
        "student2 = Student(\"Bob\", [])\n",
        "\n",
        "\n",
        "average_alice = student1.average_grade()\n",
        "average_bob = student2.average_grade()\n",
        "\n",
        "\n",
        "\n",
        "print(f\"{student1.name}'s average grade: {average_alice:.2f}\")\n",
        "print(f\"{student2.name}'s average grade: {average_bob:.2f}\")\n",
        "\n",
        "print(\"-----------------------------------\")"
      ],
      "execution_count": 37,
      "outputs": [
        {
          "output_type": "stream",
          "name": "stdout",
          "text": [
            "--- Demonstrating Student class ---\n",
            "Student object created: Alice\n",
            "Student object created: Bob\n",
            "No grades available to calculate average.\n",
            "Alice's average grade: 86.25\n",
            "Bob's average grade: 0.00\n",
            "-----------------------------------\n"
          ]
        }
      ]
    },
    {
      "cell_type": "markdown",
      "metadata": {
        "id": "25790fbe"
      },
      "source": [
        "\n",
        "\n",
        "Create a `Rectangle` class with methods to set dimensions and calculate area.\n"
      ]
    },
    {
      "cell_type": "code",
      "metadata": {
        "colab": {
          "base_uri": "https://localhost:8080/"
        },
        "id": "f2c8e872",
        "outputId": "b4964b58-c7fc-468a-9d9a-24abfb5a9f05"
      },
      "source": [
        "class Rectangle:\n",
        "\n",
        "\n",
        "    def __init__(self, width=0, height=0):\n",
        "\n",
        "\n",
        "        self._width = 0\n",
        "        self._height = 0\n",
        "        self.set_dimensions(width, height)\n",
        "\n",
        "\n",
        "    def set_dimensions(self, width, height):\n",
        "\n",
        "\n",
        "        if width >= 0 and height >= 0:\n",
        "            self._width = width\n",
        "            self._height = height\n",
        "            print(f\"Dimensions set to: Width = {self._width}, Height = {self._height}\")\n",
        "        else:\n",
        "            print(\"Error: Dimensions must be non-negative.\")\n",
        "\n",
        "\n",
        "    def calculate_area(self):\n",
        "\n",
        "\n",
        "        return self._width * self._height\n",
        "\n",
        "\n",
        "    @property\n",
        "    def width(self):\n",
        "        return self._width\n",
        "\n",
        "    @property\n",
        "    def height(self):\n",
        "        return self._height\n",
        "\n",
        "\n",
        "print(\"--- Demonstrating Rectangle class ---\")\n",
        "my_rectangle = Rectangle()\n",
        "\n",
        "\n",
        "my_rectangle.set_dimensions(10, 5)\n",
        "\n",
        "\n",
        "area = my_rectangle.calculate_area()\n",
        "print(f\"Area of the rectangle: {area}\")\n",
        "\n",
        "\n",
        "print(\"\\nAttempting to set invalid dimensions...\")\n",
        "my_rectangle.set_dimensions(-2, 7)\n",
        "\n",
        "\n",
        "print(f\"Current dimensions: Width = {my_rectangle.width}, Height = {my_rectangle.height}\")\n",
        "area_after_invalid_set = my_rectangle.calculate_area()\n",
        "print(f\"Area after invalid set attempt: {area_after_invalid_set}\")\n",
        "\n",
        "print(\"-------------------------------------\")"
      ],
      "execution_count": 38,
      "outputs": [
        {
          "output_type": "stream",
          "name": "stdout",
          "text": [
            "--- Demonstrating Rectangle class ---\n",
            "Dimensions set to: Width = 0, Height = 0\n",
            "Dimensions set to: Width = 10, Height = 5\n",
            "Area of the rectangle: 50\n",
            "\n",
            "Attempting to set invalid dimensions...\n",
            "Error: Dimensions must be non-negative.\n",
            "Current dimensions: Width = 10, Height = 5\n",
            "Area after invalid set attempt: 50\n",
            "-------------------------------------\n"
          ]
        }
      ]
    },
    {
      "cell_type": "markdown",
      "metadata": {
        "id": "4ecf7918"
      },
      "source": [
        "\n",
        "Create a base class `Employee` with a `calculate_salary` method and a derived class `Manager` that overrides this method to include a bonus.\n"
      ]
    },
    {
      "cell_type": "code",
      "metadata": {
        "colab": {
          "base_uri": "https://localhost:8080/"
        },
        "id": "f5860ac6",
        "outputId": "a481920e-b37d-4a28-aaa2-dd4c13dcd6b4"
      },
      "source": [
        "class Employee:\n",
        "    def __init__(self, name, salary):\n",
        "        self.name = name\n",
        "        self.salary = salary\n",
        "\n",
        "    def calculate_salary(self):\n",
        "        return self.salary\n",
        "\n",
        "class Manager(Employee):\n",
        "    def __init__(self, name, salary, bonus):\n",
        "        super().__init__(name, salary)\n",
        "        self.bonus = bonus\n",
        "\n",
        "    def calculate_salary(self):\n",
        "        base_salary = super().calculate_salary()\n",
        "        return base_salary + self.bonus\n",
        "\n",
        "employee = Employee(\"Alice\", 50000)\n",
        "employee_salary = employee.calculate_salary()\n",
        "\n",
        "manager = Manager(\"Bob\", 60000, 10000)\n",
        "manager_salary = manager.calculate_salary()\n",
        "\n",
        "print(f\"{employee.name}'s total salary: ${employee_salary}\")\n",
        "print(f\"{manager.name}'s total salary: ${manager_salary}\")"
      ],
      "execution_count": 22,
      "outputs": [
        {
          "output_type": "stream",
          "name": "stdout",
          "text": [
            "Alice's total salary: $50000\n",
            "Bob's total salary: $70000\n"
          ]
        }
      ]
    },
    {
      "cell_type": "markdown",
      "metadata": {
        "id": "11f5f6fa"
      },
      "source": [
        "\n",
        "Create a `Product` class with attributes for name, price, and quantity, and a method to calculate the total price.\n"
      ]
    },
    {
      "cell_type": "code",
      "metadata": {
        "colab": {
          "base_uri": "https://localhost:8080/"
        },
        "id": "9c98504c",
        "outputId": "60bcab15-7a8a-418f-c34f-ee4783fce223"
      },
      "source": [
        "class Product:\n",
        "    def __init__(self, name, price, quantity):\n",
        "        if price < 0 or quantity < 0:\n",
        "            raise ValueError(\"Price and quantity must be non-negative.\")\n",
        "\n",
        "        self.name = name\n",
        "        self.price = price\n",
        "        self.quantity = quantity\n",
        "\n",
        "    def calculate_total_price(self):\n",
        "        return self.price * self.quantity\n",
        "\n",
        "product1 = Product(\"Laptop\", 1200.50, 2)\n",
        "total_cost = product1.calculate_total_price()\n",
        "print(f\"Total price for {product1.name}: ${total_cost:.2f}\")\n",
        "\n",
        "product2 = Product(\"Mouse\", 25.00, 10)\n",
        "total_cost_2 = product2.calculate_total_price()\n",
        "print(f\"Total price for {product2.name}: ${total_cost_2:.2f}\")\n",
        "\n",
        "try:\n",
        "    invalid_product = Product(\"Keyboard\", -50.00, 5)\n",
        "except ValueError as e:\n",
        "    print(f\"Caught expected error: {e}\")\n",
        "\n",
        "try:\n",
        "    invalid_product_2 = Product(\"Monitor\", 300.00, -3)\n",
        "except ValueError as e:\n",
        "    print(f\"Caught expected error: {e}\")"
      ],
      "execution_count": 39,
      "outputs": [
        {
          "output_type": "stream",
          "name": "stdout",
          "text": [
            "Total price for Laptop: $2401.00\n",
            "Total price for Mouse: $250.00\n",
            "Caught expected error: Price and quantity must be non-negative.\n",
            "Caught expected error: Price and quantity must be non-negative.\n"
          ]
        }
      ]
    },
    {
      "cell_type": "markdown",
      "metadata": {
        "id": "31d9d6c5"
      },
      "source": [
        "\n",
        "Create an abstract base class `Animal` with an abstract `sound` method, and concrete derived classes `Cow` and `Sheep` that implement the `sound` method.\n"
      ]
    },
    {
      "cell_type": "code",
      "metadata": {
        "colab": {
          "base_uri": "https://localhost:8080/"
        },
        "id": "b68956f3",
        "outputId": "bdfe6e05-6c99-4df5-a7ef-1cb81b0b5e17"
      },
      "source": [
        "from abc import ABC, abstractmethod\n",
        "\n",
        "class Animal(ABC):\n",
        "    @abstractmethod\n",
        "    def sound(self):\n",
        "        pass\n",
        "\n",
        "class Cow(Animal):\n",
        "    def sound(self):\n",
        "        print(\"Moo\")\n",
        "\n",
        "class Sheep(Animal):\n",
        "    def sound(self):\n",
        "        print(\"Baa\")\n",
        "\n",
        "my_cow = Cow()\n",
        "my_sheep = Sheep()\n",
        "\n",
        "my_cow.sound()\n",
        "my_sheep.sound()"
      ],
      "execution_count": 40,
      "outputs": [
        {
          "output_type": "stream",
          "name": "stdout",
          "text": [
            "Moo\n",
            "Baa\n"
          ]
        }
      ]
    },
    {
      "cell_type": "markdown",
      "metadata": {
        "id": "f06c57cd"
      },
      "source": [
        "\n",
        "Create a `Book` class with attributes and a method to return formatted book information.\n"
      ]
    },
    {
      "cell_type": "code",
      "metadata": {
        "colab": {
          "base_uri": "https://localhost:8080/"
        },
        "id": "111f5593",
        "outputId": "d91cbaba-e004-4a2b-b5a9-eaec5d6a299f"
      },
      "source": [
        "class Book:\n",
        "    def __init__(self, title, author, isbn):\n",
        "        self.title = title\n",
        "        self.author = author\n",
        "        self.isbn = isbn\n",
        "\n",
        "    def get_formatted_info(self):\n",
        "        return f\"Title: {self.title}, Author: {self.author}, ISBN: {self.isbn}\"\n",
        "\n",
        "my_book = Book(\"The Hitchhiker's Guide to the Galaxy\", \"Douglas Adams\", \"978-0345391803\")\n",
        "formatted_info = my_book.get_formatted_info()\n",
        "print(formatted_info)"
      ],
      "execution_count": 41,
      "outputs": [
        {
          "output_type": "stream",
          "name": "stdout",
          "text": [
            "Title: The Hitchhiker's Guide to the Galaxy, Author: Douglas Adams, ISBN: 978-0345391803\n"
          ]
        }
      ]
    },
    {
      "cell_type": "markdown",
      "metadata": {
        "id": "0635678d"
      },
      "source": [
        "\n",
        "Create a base class `House` and a derived class `Mansion` that adds a specific attribute.\n"
      ]
    },
    {
      "cell_type": "code",
      "metadata": {
        "colab": {
          "base_uri": "https://localhost:8080/"
        },
        "id": "68c54f4f",
        "outputId": "fdde7471-7131-4cbb-b98f-79e5cfe36da0"
      },
      "source": [
        "class House:\n",
        "    def __init__(self, address):\n",
        "        self.address = address\n",
        "\n",
        "    def display_address(self):\n",
        "        print(f\"Address: {self.address}\")\n",
        "\n",
        "class Mansion(House):\n",
        "    def __init__(self, address, has_pool):\n",
        "        super().__init__(address)\n",
        "        self.has_pool = has_pool\n",
        "\n",
        "    def display_address(self):\n",
        "        super().display_address()\n",
        "        print(f\"Has Swimming Pool: {'Yes' if self.has_pool else 'No'}\")\n",
        "\n",
        "my_house = House(\"123 Main St\")\n",
        "my_house.display_address()\n",
        "\n",
        "my_mansion = Mansion(\"789 Luxury Ave\", True)\n",
        "my_mansion.display_address()\n",
        "\n",
        "another_mansion = Mansion(\"456 Hilltop Rd\", False)\n",
        "another_mansion.display_address()"
      ],
      "execution_count": 42,
      "outputs": [
        {
          "output_type": "stream",
          "name": "stdout",
          "text": [
            "Address: 123 Main St\n",
            "Address: 789 Luxury Ave\n",
            "Has Swimming Pool: Yes\n",
            "Address: 456 Hilltop Rd\n",
            "Has Swimming Pool: No\n"
          ]
        }
      ]
    }
  ]
}